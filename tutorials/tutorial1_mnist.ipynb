{
  "nbformat": 4,
  "nbformat_minor": 0,
  "metadata": {
    "colab": {
      "name": "tutorial1_mnist.ipynb",
      "version": "0.3.2",
      "provenance": [],
      "collapsed_sections": []
    },
    "kernelspec": {
      "name": "python3",
      "display_name": "Python 3"
    },
    "accelerator": "TPU"
  },
  "cells": [
    {
      "metadata": {
        "id": "vinGehwdBAGm",
        "colab_type": "code",
        "colab": {}
      },
      "cell_type": "code",
      "source": [
        "import tensorflow as tf\n",
        "import os"
      ],
      "execution_count": 0,
      "outputs": []
    },
    {
      "metadata": {
        "id": "uCxEXH6qEgr8",
        "colab_type": "code",
        "colab": {
          "base_uri": "https://localhost:8080/",
          "height": 136
        },
        "outputId": "6c8aacb5-9326-482c-abc4-4760b7148690"
      },
      "cell_type": "code",
      "source": [
        "if tf.gfile.Exists('./fenwicks'):\n",
        "  tf.gfile.DeleteRecursively('./fenwicks')\n",
        "!git clone https://github.com/fenwickslab/fenwicks.git\n",
        "\n",
        "import fenwicks as fw"
      ],
      "execution_count": 2,
      "outputs": [
        {
          "output_type": "stream",
          "text": [
            "Cloning into 'fenwicks'...\n",
            "remote: Enumerating objects: 66, done.\u001b[K\n",
            "remote: Counting objects:   1% (1/66)   \u001b[K\rremote: Counting objects:   3% (2/66)   \u001b[K\rremote: Counting objects:   4% (3/66)   \u001b[K\rremote: Counting objects:   6% (4/66)   \u001b[K\rremote: Counting objects:   7% (5/66)   \u001b[K\rremote: Counting objects:   9% (6/66)   \u001b[K\rremote: Counting objects:  10% (7/66)   \u001b[K\rremote: Counting objects:  12% (8/66)   \u001b[K\rremote: Counting objects:  13% (9/66)   \u001b[K\rremote: Counting objects:  15% (10/66)   \u001b[K\rremote: Counting objects:  16% (11/66)   \u001b[K\rremote: Counting objects:  18% (12/66)   \u001b[K\rremote: Counting objects:  19% (13/66)   \u001b[K\rremote: Counting objects:  21% (14/66)   \u001b[K\rremote: Counting objects:  22% (15/66)   \u001b[K\rremote: Counting objects:  24% (16/66)   \u001b[K\rremote: Counting objects:  25% (17/66)   \u001b[K\rremote: Counting objects:  27% (18/66)   \u001b[K\rremote: Counting objects:  28% (19/66)   \u001b[K\rremote: Counting objects:  30% (20/66)   \u001b[K\rremote: Counting objects:  31% (21/66)   \u001b[K\rremote: Counting objects:  33% (22/66)   \u001b[K\rremote: Counting objects:  34% (23/66)   \u001b[K\rremote: Counting objects:  36% (24/66)   \u001b[K\rremote: Counting objects:  37% (25/66)   \u001b[K\rremote: Counting objects:  39% (26/66)   \u001b[K\rremote: Counting objects:  40% (27/66)   \u001b[K\rremote: Counting objects:  42% (28/66)   \u001b[K\rremote: Counting objects:  43% (29/66)   \u001b[K\rremote: Counting objects:  45% (30/66)   \u001b[K\rremote: Counting objects:  46% (31/66)   \u001b[K\rremote: Counting objects:  48% (32/66)   \u001b[K\rremote: Counting objects:  50% (33/66)   \u001b[K\rremote: Counting objects:  51% (34/66)   \u001b[K\rremote: Counting objects:  53% (35/66)   \u001b[K\rremote: Counting objects:  54% (36/66)   \u001b[K\rremote: Counting objects:  56% (37/66)   \u001b[K\rremote: Counting objects:  57% (38/66)   \u001b[K\rremote: Counting objects:  59% (39/66)   \u001b[K\rremote: Counting objects:  60% (40/66)   \u001b[K\rremote: Counting objects:  62% (41/66)   \u001b[K\rremote: Counting objects:  63% (42/66)   \u001b[K\rremote: Counting objects:  65% (43/66)   \u001b[K\rremote: Counting objects:  66% (44/66)   \u001b[K\rremote: Counting objects:  68% (45/66)   \u001b[K\rremote: Counting objects:  69% (46/66)   \u001b[K\rremote: Counting objects:  71% (47/66)   \u001b[K\rremote: Counting objects:  72% (48/66)   \u001b[K\rremote: Counting objects:  74% (49/66)   \u001b[K\rremote: Counting objects:  75% (50/66)   \u001b[K\rremote: Counting objects:  77% (51/66)   \u001b[K\rremote: Counting objects:  78% (52/66)   \u001b[K\rremote: Counting objects:  80% (53/66)   \rremote: Counting objects:  81% (54/66)   \u001b[K\rremote: Counting objects:  83% (55/66)   \u001b[K\rremote: Counting objects:  84% (56/66)   \u001b[K\rremote: Counting objects:  86% (57/66)   \u001b[K\rremote: Counting objects:  87% (58/66)   \u001b[K\rremote: Counting objects:  89% (59/66)   \u001b[K\rremote: Counting objects:  90% (60/66)   \u001b[K\rremote: Counting objects:  92% (61/66)   \u001b[K\rremote: Counting objects:  93% (62/66)   \u001b[K\rremote: Counting objects:  95% (63/66)   \u001b[K\rremote: Counting objects:  96% (64/66)   \u001b[K\rremote: Counting objects:  98% (65/66)   \u001b[K\rremote: Counting objects: 100% (66/66)   \u001b[K\rremote: Counting objects: 100% (66/66), done.\u001b[K\n",
            "remote: Compressing objects:   2% (1/48)   \u001b[K\rremote: Compressing objects:   4% (2/48)   \u001b[K\rremote: Compressing objects:   6% (3/48)   \u001b[K\rremote: Compressing objects:   8% (4/48)   \u001b[K\rremote: Compressing objects:  10% (5/48)   \u001b[K\rremote: Compressing objects:  12% (6/48)   \u001b[K\rremote: Compressing objects:  14% (7/48)   \u001b[K\rremote: Compressing objects:  16% (8/48)   \u001b[K\rremote: Compressing objects:  18% (9/48)   \u001b[K\rremote: Compressing objects:  20% (10/48)   \u001b[K\rremote: Compressing objects:  22% (11/48)   \u001b[K\rremote: Compressing objects:  25% (12/48)   \u001b[K\rremote: Compressing objects:  27% (13/48)   \u001b[K\rremote: Compressing objects:  29% (14/48)   \u001b[K\rremote: Compressing objects:  31% (15/48)   \u001b[K\rremote: Compressing objects:  33% (16/48)   \u001b[K\rremote: Compressing objects:  35% (17/48)   \u001b[K\rremote: Compressing objects:  37% (18/48)   \u001b[K\rremote: Compressing objects:  39% (19/48)   \u001b[K\rremote: Compressing objects:  41% (20/48)   \u001b[K\rremote: Compressing objects:  43% (21/48)   \u001b[K\rremote: Compressing objects:  45% (22/48)   \u001b[K\rremote: Compressing objects:  47% (23/48)   \u001b[K\rremote: Compressing objects:  50% (24/48)   \u001b[K\rremote: Compressing objects:  52% (25/48)   \u001b[K\rremote: Compressing objects:  54% (26/48)   \u001b[K\rremote: Compressing objects:  56% (27/48)   \u001b[K\rremote: Compressing objects:  58% (28/48)   \u001b[K\rremote: Compressing objects:  60% (29/48)   \u001b[K\rremote: Compressing objects:  62% (30/48)   \u001b[K\rremote: Compressing objects:  64% (31/48)   \u001b[K\rremote: Compressing objects:  66% (32/48)   \u001b[K\rremote: Compressing objects:  68% (33/48)   \u001b[K\rremote: Compressing objects:  70% (34/48)   \u001b[K\rremote: Compressing objects:  72% (35/48)   \u001b[K\rremote: Compressing objects:  75% (36/48)   \u001b[K\rremote: Compressing objects:  77% (37/48)   \u001b[K\rremote: Compressing objects:  79% (38/48)   \u001b[K\rremote: Compressing objects:  81% (39/48)   \u001b[K\rremote: Compressing objects:  83% (40/48)   \u001b[K\rremote: Compressing objects:  85% (41/48)   \u001b[K\rremote: Compressing objects:  87% (42/48)   \u001b[K\rremote: Compressing objects:  89% (43/48)   \u001b[K\rremote: Compressing objects:  91% (44/48)   \u001b[K\rremote: Compressing objects:  93% (45/48)   \u001b[K\rremote: Compressing objects:  95% (46/48)   \u001b[K\rremote: Compressing objects:  97% (47/48)   \u001b[K\rremote: Compressing objects: 100% (48/48)   \u001b[K\rremote: Compressing objects: 100% (48/48), done.\u001b[K\n",
            "Receiving objects:   0% (1/479)   \rReceiving objects:   1% (5/479)   \rReceiving objects:   2% (10/479)   \rReceiving objects:   3% (15/479)   \rReceiving objects:   4% (20/479)   \rReceiving objects:   5% (24/479)   \rReceiving objects:   6% (29/479)   \rReceiving objects:   7% (34/479)   \rReceiving objects:   8% (39/479)   \rReceiving objects:   9% (44/479)   \rReceiving objects:  10% (48/479)   \rReceiving objects:  11% (53/479)   \rReceiving objects:  12% (58/479)   \rReceiving objects:  13% (63/479)   \rReceiving objects:  14% (68/479)   \rReceiving objects:  15% (72/479)   \rReceiving objects:  16% (77/479)   \rReceiving objects:  17% (82/479)   \rReceiving objects:  18% (87/479)   \rReceiving objects:  19% (92/479)   \rReceiving objects:  20% (96/479)   \rReceiving objects:  21% (101/479)   \rReceiving objects:  22% (106/479)   \rReceiving objects:  23% (111/479)   \rReceiving objects:  24% (115/479)   \rReceiving objects:  25% (120/479)   \rReceiving objects:  26% (125/479)   \rReceiving objects:  27% (130/479)   \rReceiving objects:  28% (135/479)   \rReceiving objects:  29% (139/479)   \rReceiving objects:  30% (144/479)   \rReceiving objects:  31% (149/479)   \rReceiving objects:  32% (154/479)   \rReceiving objects:  33% (159/479)   \rReceiving objects:  34% (163/479)   \rReceiving objects:  35% (168/479)   \rReceiving objects:  36% (173/479)   \rReceiving objects:  37% (178/479)   \rReceiving objects:  38% (183/479)   \rReceiving objects:  39% (187/479)   \rReceiving objects:  40% (192/479)   \rReceiving objects:  41% (197/479)   \rReceiving objects:  42% (202/479)   \rReceiving objects:  43% (206/479)   \rremote: Total 479 (delta 36), reused 44 (delta 18), pack-reused 413\u001b[K\n",
            "Receiving objects:  44% (211/479)   \rReceiving objects:  45% (216/479)   \rReceiving objects:  46% (221/479)   \rReceiving objects:  47% (226/479)   \rReceiving objects:  48% (230/479)   \rReceiving objects:  49% (235/479)   \rReceiving objects:  50% (240/479)   \rReceiving objects:  51% (245/479)   \rReceiving objects:  52% (250/479)   \rReceiving objects:  53% (254/479)   \rReceiving objects:  54% (259/479)   \rReceiving objects:  55% (264/479)   \rReceiving objects:  56% (269/479)   \rReceiving objects:  57% (274/479)   \rReceiving objects:  58% (278/479)   \rReceiving objects:  59% (283/479)   \rReceiving objects:  60% (288/479)   \rReceiving objects:  61% (293/479)   \rReceiving objects:  62% (297/479)   \rReceiving objects:  63% (302/479)   \rReceiving objects:  64% (307/479)   \rReceiving objects:  65% (312/479)   \rReceiving objects:  66% (317/479)   \rReceiving objects:  67% (321/479)   \rReceiving objects:  68% (326/479)   \rReceiving objects:  69% (331/479)   \rReceiving objects:  70% (336/479)   \rReceiving objects:  71% (341/479)   \rReceiving objects:  72% (345/479)   \rReceiving objects:  73% (350/479)   \rReceiving objects:  74% (355/479)   \rReceiving objects:  75% (360/479)   \rReceiving objects:  76% (365/479)   \rReceiving objects:  77% (369/479)   \rReceiving objects:  78% (374/479)   \rReceiving objects:  79% (379/479)   \rReceiving objects:  80% (384/479)   \rReceiving objects:  81% (388/479)   \rReceiving objects:  82% (393/479)   \rReceiving objects:  83% (398/479)   \rReceiving objects:  84% (403/479)   \rReceiving objects:  85% (408/479)   \rReceiving objects:  86% (412/479)   \rReceiving objects:  87% (417/479)   \rReceiving objects:  88% (422/479)   \rReceiving objects:  89% (427/479)   \rReceiving objects:  90% (432/479)   \rReceiving objects:  91% (436/479)   \rReceiving objects:  92% (441/479)   \rReceiving objects:  93% (446/479)   \rReceiving objects:  94% (451/479)   \rReceiving objects:  95% (456/479)   \rReceiving objects:  96% (460/479)   \rReceiving objects:  97% (465/479)   \rReceiving objects:  98% (470/479)   \rReceiving objects:  99% (475/479)   \rReceiving objects: 100% (479/479)   \rReceiving objects: 100% (479/479), 185.02 KiB | 3.78 MiB/s, done.\n",
            "Resolving deltas:   0% (0/252)   \rResolving deltas:   3% (10/252)   \rResolving deltas:   7% (18/252)   \rResolving deltas:   8% (21/252)   \rResolving deltas:  11% (30/252)   \rResolving deltas:  34% (88/252)   \rResolving deltas:  44% (113/252)   \rResolving deltas:  50% (127/252)   \rResolving deltas:  52% (132/252)   \rResolving deltas:  55% (139/252)   \rResolving deltas:  56% (143/252)   \rResolving deltas:  63% (160/252)   \rResolving deltas:  71% (181/252)   \rResolving deltas:  72% (182/252)   \rResolving deltas:  75% (190/252)   \rResolving deltas:  81% (206/252)   \rResolving deltas:  82% (209/252)   \rResolving deltas:  90% (227/252)   \rResolving deltas:  92% (232/252)   \rResolving deltas:  96% (243/252)   \rResolving deltas:  97% (245/252)   \rResolving deltas: 100% (252/252)   \rResolving deltas: 100% (252/252), done.\n"
          ],
          "name": "stdout"
        }
      ]
    },
    {
      "metadata": {
        "id": "lwFyTRJZBIAz",
        "colab_type": "code",
        "colab": {}
      },
      "cell_type": "code",
      "source": [
        "BATCH_SIZE = 32 #@param {type:\"integer\"}\n",
        "BUCKET = 'gs://gs_colab' #@param {type:\"string\"}\n",
        "PROJECT = 'mnist' #@param {type:\"string\"}\n",
        "EPOCHS = 10 #@param {type:\"integer\"}\n",
        "\n"
      ],
      "execution_count": 0,
      "outputs": []
    },
    {
      "metadata": {
        "id": "sKNkoJZa5QPP",
        "colab_type": "code",
        "colab": {
          "base_uri": "https://localhost:8080/",
          "height": 136
        },
        "outputId": "dd64b960-b9af-4849-9c3d-43c9c4d5d2b2"
      },
      "cell_type": "code",
      "source": [
        "fw.colab_tpu.setup_gcs()"
      ],
      "execution_count": 4,
      "outputs": [
        {
          "output_type": "stream",
          "text": [
            "\n",
            "WARNING: The TensorFlow contrib module will not be included in TensorFlow 2.0.\n",
            "For more information, please see:\n",
            "  * https://github.com/tensorflow/community/blob/master/rfcs/20180907-contrib-sunset.md\n",
            "  * https://github.com/tensorflow/addons\n",
            "If you depend on functionality not listed there, please file an issue.\n",
            "\n"
          ],
          "name": "stdout"
        }
      ]
    },
    {
      "metadata": {
        "id": "B8kJRkpbEy_H",
        "colab_type": "code",
        "colab": {}
      },
      "cell_type": "code",
      "source": [
        "_, work_dir = fw.io.get_gcs_dirs(BUCKET, PROJECT)"
      ],
      "execution_count": 0,
      "outputs": []
    },
    {
      "metadata": {
        "id": "zdA7NOH7aIWL",
        "colab_type": "code",
        "colab": {}
      },
      "cell_type": "code",
      "source": [
        "(X_train, y_train), (X_test, y_test) = tf.keras.datasets.mnist.load_data()\n",
        "n_train, n_test = len(X_train), len(X_test)\n",
        "X_train = (X_train.reshape(-1, 28, 28, 1) / 255.0).astype('float32')\n",
        "X_test = (X_test.reshape(-1, 28, 28, 1) / 255.0).astype('float32')\n",
        "y_train = y_train.astype('int64')\n",
        "y_test = y_test.astype('int64')"
      ],
      "execution_count": 0,
      "outputs": []
    },
    {
      "metadata": {
        "id": "GxGnaEpgGwjJ",
        "colab_type": "code",
        "colab": {}
      },
      "cell_type": "code",
      "source": [
        "train_input_func = lambda params: fw.io.numpy_ds(X_train, y_train, batch_size=params['batch_size'], shuffle_buf_sz=n_train, training=True)\n",
        "eval_input_func = lambda params: fw.io.numpy_ds(X_test, y_test, batch_size=params['batch_size'], training=False)"
      ],
      "execution_count": 0,
      "outputs": []
    },
    {
      "metadata": {
        "id": "udmOeFNQIOt8",
        "colab_type": "code",
        "colab": {}
      },
      "cell_type": "code",
      "source": [
        "def build_nn(c=6, c_dense=200):\n",
        "  model = fw.Sequential()\n",
        "  model.add(fw.layers.ConvBN(c, kernel_size=3))\n",
        "  model.add(fw.layers.ConvBN(c*2, kernel_size=6, strides=2))\n",
        "  model.add(fw.layers.ConvBN(c*4, kernel_size=6, strides=2))\n",
        "  model.add(tf.layers.Flatten())\n",
        "  model.add(fw.layers.DenseBlk(c_dense, drop_rate=0.5))\n",
        "  model.add(tf.keras.layers.Dense(10, use_bias=False))\n",
        "  return model"
      ],
      "execution_count": 0,
      "outputs": []
    },
    {
      "metadata": {
        "id": "5a9tDQl3MaN9",
        "colab_type": "code",
        "colab": {}
      },
      "cell_type": "code",
      "source": [
        "steps_per_epoch = n_train // BATCH_SIZE\n",
        "opt_func = fw.train.adam_exp_decay(base_lr=0.0001, init_lr=0.01, decay_steps=2000)\n",
        "model_func = fw.tpuest.get_clf_model_func(build_nn, opt_func)"
      ],
      "execution_count": 0,
      "outputs": []
    },
    {
      "metadata": {
        "id": "crEvfYhhaohI",
        "colab_type": "code",
        "outputId": "63291f36-ab19-450b-9dd1-6adc12539004",
        "colab": {
          "base_uri": "https://localhost:8080/",
          "height": 2094
        }
      },
      "cell_type": "code",
      "source": [
        "est = fw.tpuest.get_tpu_estimator(n_train, n_test, model_func, work_dir, trn_bs=BATCH_SIZE)\n",
        "est.train(train_input_func, steps=steps_per_epoch*EPOCHS)"
      ],
      "execution_count": 10,
      "outputs": [
        {
          "output_type": "stream",
          "text": [
            "WARNING:tensorflow:Estimator's model_fn (<function get_clf_model_func.<locals>.model_func at 0x7f38c29518c8>) includes params argument, but params are not passed to Estimator.\n",
            "INFO:tensorflow:Using config: {'_model_dir': 'gs://gs_colab/work/mnist-2019-04-10-17:41:10', '_tf_random_seed': None, '_save_summary_steps': 100, '_save_checkpoints_steps': None, '_save_checkpoints_secs': 600, '_session_config': allow_soft_placement: true\n",
            "cluster_def {\n",
            "  job {\n",
            "    name: \"worker\"\n",
            "    tasks {\n",
            "      key: 0\n",
            "      value: \"10.84.91.18:8470\"\n",
            "    }\n",
            "  }\n",
            "}\n",
            ", '_keep_checkpoint_max': 5, '_keep_checkpoint_every_n_hours': 10000, '_log_step_count_steps': None, '_train_distribute': None, '_device_fn': None, '_protocol': None, '_eval_distribute': None, '_experimental_distribute': None, '_service': None, '_cluster_spec': <tensorflow.python.training.server_lib.ClusterSpec object at 0x7f38c29656a0>, '_task_type': 'worker', '_task_id': 0, '_global_id_in_cluster': 0, '_master': 'grpc://10.84.91.18:8470', '_evaluation_master': 'grpc://10.84.91.18:8470', '_is_chief': True, '_num_ps_replicas': 0, '_num_worker_replicas': 1, '_tpu_config': TPUConfig(iterations_per_loop=1875, num_shards=None, num_cores_per_replica=None, per_host_input_for_training=3, tpu_job_name=None, initial_infeed_sleep_secs=None, input_partition_dims=None), '_cluster': <tensorflow.python.distribute.cluster_resolver.tpu_cluster_resolver.TPUClusterResolver object at 0x7f38c2965438>}\n",
            "INFO:tensorflow:_TPUContext: eval_on_tpu True\n",
            "INFO:tensorflow:Querying Tensorflow master (grpc://10.84.91.18:8470) for TPU system metadata.\n",
            "INFO:tensorflow:Found TPU system:\n",
            "INFO:tensorflow:*** Num TPU Cores: 8\n",
            "INFO:tensorflow:*** Num TPU Workers: 1\n",
            "INFO:tensorflow:*** Num TPU Cores Per Worker: 8\n",
            "INFO:tensorflow:*** Available Device: _DeviceAttributes(/job:worker/replica:0/task:0/device:CPU:0, CPU, -1, 14015419757731134976)\n",
            "INFO:tensorflow:*** Available Device: _DeviceAttributes(/job:worker/replica:0/task:0/device:XLA_CPU:0, XLA_CPU, 17179869184, 17166867012795741837)\n",
            "INFO:tensorflow:*** Available Device: _DeviceAttributes(/job:worker/replica:0/task:0/device:TPU:0, TPU, 17179869184, 7597645363294900778)\n",
            "INFO:tensorflow:*** Available Device: _DeviceAttributes(/job:worker/replica:0/task:0/device:TPU:1, TPU, 17179869184, 5178226505878986509)\n",
            "INFO:tensorflow:*** Available Device: _DeviceAttributes(/job:worker/replica:0/task:0/device:TPU:2, TPU, 17179869184, 16332549810910408646)\n",
            "INFO:tensorflow:*** Available Device: _DeviceAttributes(/job:worker/replica:0/task:0/device:TPU:3, TPU, 17179869184, 8033142519499235469)\n",
            "INFO:tensorflow:*** Available Device: _DeviceAttributes(/job:worker/replica:0/task:0/device:TPU:4, TPU, 17179869184, 13357712179013500856)\n",
            "INFO:tensorflow:*** Available Device: _DeviceAttributes(/job:worker/replica:0/task:0/device:TPU:5, TPU, 17179869184, 5591555295467729828)\n",
            "INFO:tensorflow:*** Available Device: _DeviceAttributes(/job:worker/replica:0/task:0/device:TPU:6, TPU, 17179869184, 6107009262715010969)\n",
            "INFO:tensorflow:*** Available Device: _DeviceAttributes(/job:worker/replica:0/task:0/device:TPU:7, TPU, 17179869184, 11592412494259884284)\n",
            "INFO:tensorflow:*** Available Device: _DeviceAttributes(/job:worker/replica:0/task:0/device:TPU_SYSTEM:0, TPU_SYSTEM, 17179869184, 15596526040843958439)\n",
            "WARNING:tensorflow:From /usr/local/lib/python3.6/dist-packages/tensorflow/python/ops/resource_variable_ops.py:435: colocate_with (from tensorflow.python.framework.ops) is deprecated and will be removed in a future version.\n",
            "Instructions for updating:\n",
            "Colocations handled automatically by placer.\n",
            "INFO:tensorflow:Calling model_fn.\n",
            "WARNING:tensorflow:From /usr/local/lib/python3.6/dist-packages/tensorflow/python/keras/layers/core.py:143: calling dropout (from tensorflow.python.ops.nn_ops) with keep_prob is deprecated and will be removed in a future version.\n",
            "Instructions for updating:\n",
            "Please use `rate` instead of `keep_prob`. Rate should be set to `rate = 1 - keep_prob`.\n",
            "WARNING:tensorflow:From /usr/local/lib/python3.6/dist-packages/tensorflow/python/ops/losses/losses_impl.py:209: to_float (from tensorflow.python.ops.math_ops) is deprecated and will be removed in a future version.\n",
            "Instructions for updating:\n",
            "Use tf.cast instead.\n",
            "WARNING:tensorflow:From /usr/local/lib/python3.6/dist-packages/tensorflow/python/ops/math_ops.py:3066: to_int32 (from tensorflow.python.ops.math_ops) is deprecated and will be removed in a future version.\n",
            "Instructions for updating:\n",
            "Use tf.cast instead.\n",
            "INFO:tensorflow:Create CheckpointSaverHook.\n",
            "INFO:tensorflow:Done calling model_fn.\n",
            "INFO:tensorflow:TPU job name worker\n",
            "INFO:tensorflow:Graph was finalized.\n",
            "INFO:tensorflow:Running local_init_op.\n",
            "INFO:tensorflow:Done running local_init_op.\n",
            "INFO:tensorflow:Saving checkpoints for 0 into gs://gs_colab/work/mnist-2019-04-10-17:41:10/model.ckpt.\n",
            "INFO:tensorflow:Initialized dataset iterators in 1 seconds\n",
            "INFO:tensorflow:Installing graceful shutdown hook.\n",
            "INFO:tensorflow:Creating heartbeat manager for ['/job:worker/replica:0/task:0/device:CPU:0']\n",
            "INFO:tensorflow:Configuring worker heartbeat: shutdown_mode: WAIT_FOR_COORDINATOR\n",
            "\n",
            "INFO:tensorflow:Init TPU system\n",
            "INFO:tensorflow:Initialized TPU in 7 seconds\n",
            "INFO:tensorflow:Starting infeed thread controller.\n",
            "INFO:tensorflow:Starting outfeed thread controller.\n",
            "INFO:tensorflow:Enqueue next (1875) batch(es) of data to infeed.\n",
            "INFO:tensorflow:Dequeue next (1875) batch(es) of data from outfeed.\n",
            "INFO:tensorflow:loss = 0.03523066, step = 1875\n",
            "INFO:tensorflow:Enqueue next (1875) batch(es) of data to infeed.\n",
            "INFO:tensorflow:Dequeue next (1875) batch(es) of data from outfeed.\n",
            "INFO:tensorflow:loss = 0.0055054366, step = 3750 (2.147 sec)\n",
            "INFO:tensorflow:global_step/sec: 873.243\n",
            "INFO:tensorflow:examples/sec: 27943.8\n",
            "INFO:tensorflow:Enqueue next (1875) batch(es) of data to infeed.\n",
            "INFO:tensorflow:Dequeue next (1875) batch(es) of data from outfeed.\n",
            "INFO:tensorflow:loss = 0.0018887632, step = 5625 (2.127 sec)\n",
            "INFO:tensorflow:global_step/sec: 881.09\n",
            "INFO:tensorflow:examples/sec: 28194.9\n",
            "INFO:tensorflow:Enqueue next (1875) batch(es) of data to infeed.\n",
            "INFO:tensorflow:Dequeue next (1875) batch(es) of data from outfeed.\n",
            "INFO:tensorflow:loss = 0.09558411, step = 7500 (2.104 sec)\n",
            "INFO:tensorflow:global_step/sec: 892.167\n",
            "INFO:tensorflow:examples/sec: 28549.4\n",
            "INFO:tensorflow:Enqueue next (1875) batch(es) of data to infeed.\n",
            "INFO:tensorflow:Dequeue next (1875) batch(es) of data from outfeed.\n",
            "INFO:tensorflow:loss = 0.03524041, step = 9375 (2.181 sec)\n",
            "INFO:tensorflow:global_step/sec: 859.694\n",
            "INFO:tensorflow:examples/sec: 27510.2\n",
            "INFO:tensorflow:Enqueue next (1875) batch(es) of data to infeed.\n",
            "INFO:tensorflow:Dequeue next (1875) batch(es) of data from outfeed.\n",
            "INFO:tensorflow:loss = 0.004222798, step = 11250 (2.123 sec)\n",
            "INFO:tensorflow:global_step/sec: 883.573\n",
            "INFO:tensorflow:examples/sec: 28274.3\n",
            "INFO:tensorflow:Enqueue next (1875) batch(es) of data to infeed.\n",
            "INFO:tensorflow:Dequeue next (1875) batch(es) of data from outfeed.\n",
            "INFO:tensorflow:loss = 0.028030166, step = 13125 (2.035 sec)\n",
            "INFO:tensorflow:global_step/sec: 921.235\n",
            "INFO:tensorflow:examples/sec: 29479.5\n",
            "INFO:tensorflow:Enqueue next (1875) batch(es) of data to infeed.\n",
            "INFO:tensorflow:Dequeue next (1875) batch(es) of data from outfeed.\n",
            "INFO:tensorflow:loss = 0.14883085, step = 15000 (2.046 sec)\n",
            "INFO:tensorflow:global_step/sec: 916.174\n",
            "INFO:tensorflow:examples/sec: 29317.6\n",
            "INFO:tensorflow:Enqueue next (1875) batch(es) of data to infeed.\n",
            "INFO:tensorflow:Dequeue next (1875) batch(es) of data from outfeed.\n",
            "INFO:tensorflow:loss = 0.14953627, step = 16875 (1.967 sec)\n",
            "INFO:tensorflow:global_step/sec: 953.304\n",
            "INFO:tensorflow:examples/sec: 30505.7\n",
            "INFO:tensorflow:Enqueue next (1875) batch(es) of data to infeed.\n",
            "INFO:tensorflow:Dequeue next (1875) batch(es) of data from outfeed.\n",
            "INFO:tensorflow:loss = 0.0005277961, step = 18750 (1.923 sec)\n",
            "INFO:tensorflow:global_step/sec: 974.925\n",
            "INFO:tensorflow:examples/sec: 31197.6\n",
            "INFO:tensorflow:Saving checkpoints for 18750 into gs://gs_colab/work/mnist-2019-04-10-17:41:10/model.ckpt.\n",
            "INFO:tensorflow:Stop infeed thread controller\n",
            "INFO:tensorflow:Shutting down InfeedController thread.\n",
            "INFO:tensorflow:InfeedController received shutdown signal, stopping.\n",
            "INFO:tensorflow:Infeed thread finished, shutting down.\n",
            "INFO:tensorflow:infeed marked as finished\n",
            "INFO:tensorflow:Stop output thread controller\n",
            "INFO:tensorflow:Shutting down OutfeedController thread.\n",
            "INFO:tensorflow:OutfeedController received shutdown signal, stopping.\n",
            "INFO:tensorflow:Outfeed thread finished, shutting down.\n",
            "INFO:tensorflow:outfeed marked as finished\n",
            "INFO:tensorflow:Shutdown TPU system.\n",
            "INFO:tensorflow:Loss for final step: 0.0005277961.\n",
            "INFO:tensorflow:training_loop marked as finished\n"
          ],
          "name": "stdout"
        },
        {
          "output_type": "execute_result",
          "data": {
            "text/plain": [
              "<tensorflow.contrib.tpu.python.tpu.tpu_estimator.TPUEstimator at 0x7f38c29654e0>"
            ]
          },
          "metadata": {
            "tags": []
          },
          "execution_count": 10
        }
      ]
    },
    {
      "metadata": {
        "id": "m6sju7JJxTfR",
        "colab_type": "code",
        "colab": {
          "base_uri": "https://localhost:8080/",
          "height": 666
        },
        "outputId": "a79a2fda-1d2b-4e82-9f51-dddfa5947da9"
      },
      "cell_type": "code",
      "source": [
        "result = est.evaluate(eval_input_func, steps=1)"
      ],
      "execution_count": 11,
      "outputs": [
        {
          "output_type": "stream",
          "text": [
            "INFO:tensorflow:Calling model_fn.\n",
            "WARNING:tensorflow:From /usr/local/lib/python3.6/dist-packages/tensorflow/contrib/tpu/python/tpu/tpu_estimator.py:2655: div (from tensorflow.python.ops.math_ops) is deprecated and will be removed in a future version.\n",
            "Instructions for updating:\n",
            "Deprecated in favor of operator or tf.math.divide.\n",
            "INFO:tensorflow:Done calling model_fn.\n",
            "INFO:tensorflow:Starting evaluation at 2019-04-10T17:43:30Z\n",
            "INFO:tensorflow:TPU job name worker\n",
            "INFO:tensorflow:Graph was finalized.\n",
            "WARNING:tensorflow:From /usr/local/lib/python3.6/dist-packages/tensorflow/python/training/saver.py:1266: checkpoint_exists (from tensorflow.python.training.checkpoint_management) is deprecated and will be removed in a future version.\n",
            "Instructions for updating:\n",
            "Use standard file APIs to check for files with this prefix.\n",
            "INFO:tensorflow:Restoring parameters from gs://gs_colab/work/mnist-2019-04-10-17:41:10/model.ckpt-18750\n",
            "INFO:tensorflow:Running local_init_op.\n",
            "INFO:tensorflow:Done running local_init_op.\n",
            "INFO:tensorflow:Init TPU system\n",
            "INFO:tensorflow:Initialized TPU in 10 seconds\n",
            "INFO:tensorflow:Starting infeed thread controller.\n",
            "INFO:tensorflow:Starting outfeed thread controller.\n",
            "INFO:tensorflow:Initialized dataset iterators in 0 seconds\n",
            "INFO:tensorflow:Enqueue next (1) batch(es) of data to infeed.\n",
            "INFO:tensorflow:Dequeue next (1) batch(es) of data from outfeed.\n",
            "INFO:tensorflow:Evaluation [1/1]\n",
            "INFO:tensorflow:Stop infeed thread controller\n",
            "INFO:tensorflow:Shutting down InfeedController thread.\n",
            "INFO:tensorflow:InfeedController received shutdown signal, stopping.\n",
            "INFO:tensorflow:Infeed thread finished, shutting down.\n",
            "INFO:tensorflow:infeed marked as finished\n",
            "INFO:tensorflow:Stop output thread controller\n",
            "INFO:tensorflow:Shutting down OutfeedController thread.\n",
            "INFO:tensorflow:OutfeedController received shutdown signal, stopping.\n",
            "INFO:tensorflow:Outfeed thread finished, shutting down.\n",
            "INFO:tensorflow:outfeed marked as finished\n",
            "INFO:tensorflow:Shutdown TPU system.\n",
            "INFO:tensorflow:Finished evaluation at 2019-04-10-17:43:44\n",
            "INFO:tensorflow:Saving dict for global step 18750: accuracy = 0.9923, global_step = 18750, loss = 0.029526785\n",
            "INFO:tensorflow:Saving 'checkpoint_path' summary for global step 18750: gs://gs_colab/work/mnist-2019-04-10-17:41:10/model.ckpt-18750\n",
            "INFO:tensorflow:evaluation_loop marked as finished\n"
          ],
          "name": "stdout"
        }
      ]
    },
    {
      "metadata": {
        "id": "1r2xTekiPifk",
        "colab_type": "code",
        "colab": {
          "base_uri": "https://localhost:8080/",
          "height": 34
        },
        "outputId": "14f6a43c-4501-48bf-84fa-723de009d193"
      },
      "cell_type": "code",
      "source": [
        "print(f'Test results: accuracy={result[\"accuracy\"] * 100: .2f}%, loss={result[\"loss\"]: .2f}.')"
      ],
      "execution_count": 12,
      "outputs": [
        {
          "output_type": "stream",
          "text": [
            "Test results: accuracy= 99.23%, loss= 0.03.\n"
          ],
          "name": "stdout"
        }
      ]
    },
    {
      "metadata": {
        "id": "nbQwOMKOPjj7",
        "colab_type": "code",
        "colab": {}
      },
      "cell_type": "code",
      "source": [
        "fw.io.create_clean_dir(work_dir)"
      ],
      "execution_count": 0,
      "outputs": []
    }
  ]
}