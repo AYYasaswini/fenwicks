{
  "nbformat": 4,
  "nbformat_minor": 0,
  "metadata": {
    "colab": {
      "name": "tutorial2-cifar10.ipynb",
      "version": "0.3.2",
      "provenance": [],
      "collapsed_sections": []
    },
    "kernelspec": {
      "name": "python3",
      "display_name": "Python 3"
    },
    "accelerator": "TPU"
  },
  "cells": [
    {
      "metadata": {
        "id": "vinGehwdBAGm",
        "colab_type": "code",
        "colab": {}
      },
      "cell_type": "code",
      "source": [
        "import numpy as np\n",
        "import tensorflow as tf\n",
        "import os"
      ],
      "execution_count": 0,
      "outputs": []
    },
    {
      "metadata": {
        "id": "csNsnglloU4Y",
        "colab_type": "code",
        "outputId": "9aae7ab4-6b4b-49fb-f985-71517ae7febd",
        "colab": {
          "base_uri": "https://localhost:8080/",
          "height": 136
        }
      },
      "cell_type": "code",
      "source": [
        "if tf.gfile.Exists('./fenwicks'):\n",
        "  tf.gfile.DeleteRecursively('./fenwicks')\n",
        "!git clone https://github.com/fenwickslab/fenwicks.git\n",
        "\n",
        "import fenwicks as fw"
      ],
      "execution_count": 2,
      "outputs": [
        {
          "output_type": "stream",
          "text": [
            "Cloning into 'fenwicks'...\n",
            "remote: Enumerating objects: 66, done.\u001b[K\n",
            "remote: Counting objects:   1% (1/66)   \u001b[K\rremote: Counting objects:   3% (2/66)   \u001b[K\rremote: Counting objects:   4% (3/66)   \u001b[K\rremote: Counting objects:   6% (4/66)   \u001b[K\rremote: Counting objects:   7% (5/66)   \u001b[K\rremote: Counting objects:   9% (6/66)   \u001b[K\rremote: Counting objects:  10% (7/66)   \u001b[K\rremote: Counting objects:  12% (8/66)   \u001b[K\rremote: Counting objects:  13% (9/66)   \u001b[K\rremote: Counting objects:  15% (10/66)   \u001b[K\rremote: Counting objects:  16% (11/66)   \u001b[K\rremote: Counting objects:  18% (12/66)   \u001b[K\rremote: Counting objects:  19% (13/66)   \u001b[K\rremote: Counting objects:  21% (14/66)   \u001b[K\rremote: Counting objects:  22% (15/66)   \u001b[K\rremote: Counting objects:  24% (16/66)   \u001b[K\rremote: Counting objects:  25% (17/66)   \u001b[K\rremote: Counting objects:  27% (18/66)   \u001b[K\rremote: Counting objects:  28% (19/66)   \u001b[K\rremote: Counting objects:  30% (20/66)   \u001b[K\rremote: Counting objects:  31% (21/66)   \u001b[K\rremote: Counting objects:  33% (22/66)   \u001b[K\rremote: Counting objects:  34% (23/66)   \u001b[K\rremote: Counting objects:  36% (24/66)   \u001b[K\rremote: Counting objects:  37% (25/66)   \u001b[K\rremote: Counting objects:  39% (26/66)   \u001b[K\rremote: Counting objects:  40% (27/66)   \u001b[K\rremote: Counting objects:  42% (28/66)   \u001b[K\rremote: Counting objects:  43% (29/66)   \u001b[K\rremote: Counting objects:  45% (30/66)   \u001b[K\rremote: Counting objects:  46% (31/66)   \u001b[K\rremote: Counting objects:  48% (32/66)   \u001b[K\rremote: Counting objects:  50% (33/66)   \u001b[K\rremote: Counting objects:  51% (34/66)   \u001b[K\rremote: Counting objects:  53% (35/66)   \u001b[K\rremote: Counting objects:  54% (36/66)   \u001b[K\rremote: Counting objects:  56% (37/66)   \u001b[K\rremote: Counting objects:  57% (38/66)   \u001b[K\rremote: Counting objects:  59% (39/66)   \u001b[K\rremote: Counting objects:  60% (40/66)   \u001b[K\rremote: Counting objects:  62% (41/66)   \u001b[K\rremote: Counting objects:  63% (42/66)   \u001b[K\rremote: Counting objects:  65% (43/66)   \u001b[K\rremote: Counting objects:  66% (44/66)   \u001b[K\rremote: Counting objects:  68% (45/66)   \u001b[K\rremote: Counting objects:  69% (46/66)   \u001b[K\rremote: Counting objects:  71% (47/66)   \u001b[K\rremote: Counting objects:  72% (48/66)   \u001b[K\rremote: Counting objects:  74% (49/66)   \u001b[K\rremote: Counting objects:  75% (50/66)   \u001b[K\rremote: Counting objects:  77% (51/66)   \u001b[K\rremote: Counting objects:  78% (52/66)   \u001b[K\rremote: Counting objects:  80% (53/66)   \rremote: Counting objects:  81% (54/66)   \u001b[K\rremote: Counting objects:  83% (55/66)   \u001b[K\rremote: Counting objects:  84% (56/66)   \u001b[K\rremote: Counting objects:  86% (57/66)   \u001b[K\rremote: Counting objects:  87% (58/66)   \u001b[K\rremote: Counting objects:  89% (59/66)   \u001b[K\rremote: Counting objects:  90% (60/66)   \u001b[K\rremote: Counting objects:  92% (61/66)   \u001b[K\rremote: Counting objects:  93% (62/66)   \u001b[K\rremote: Counting objects:  95% (63/66)   \u001b[K\rremote: Counting objects:  96% (64/66)   \u001b[K\rremote: Counting objects:  98% (65/66)   \u001b[K\rremote: Counting objects: 100% (66/66)   \u001b[K\rremote: Counting objects: 100% (66/66), done.\u001b[K\n",
            "remote: Compressing objects:   2% (1/48)   \u001b[K\rremote: Compressing objects:   4% (2/48)   \u001b[K\rremote: Compressing objects:   6% (3/48)   \u001b[K\rremote: Compressing objects:   8% (4/48)   \u001b[K\rremote: Compressing objects:  10% (5/48)   \u001b[K\rremote: Compressing objects:  12% (6/48)   \u001b[K\rremote: Compressing objects:  14% (7/48)   \u001b[K\rremote: Compressing objects:  16% (8/48)   \u001b[K\rremote: Compressing objects:  18% (9/48)   \u001b[K\rremote: Compressing objects:  20% (10/48)   \u001b[K\rremote: Compressing objects:  22% (11/48)   \u001b[K\rremote: Compressing objects:  25% (12/48)   \u001b[K\rremote: Compressing objects:  27% (13/48)   \u001b[K\rremote: Compressing objects:  29% (14/48)   \u001b[K\rremote: Compressing objects:  31% (15/48)   \u001b[K\rremote: Compressing objects:  33% (16/48)   \u001b[K\rremote: Compressing objects:  35% (17/48)   \u001b[K\rremote: Compressing objects:  37% (18/48)   \u001b[K\rremote: Compressing objects:  39% (19/48)   \u001b[K\rremote: Compressing objects:  41% (20/48)   \u001b[K\rremote: Compressing objects:  43% (21/48)   \u001b[K\rremote: Compressing objects:  45% (22/48)   \u001b[K\rremote: Compressing objects:  47% (23/48)   \u001b[K\rremote: Compressing objects:  50% (24/48)   \u001b[K\rremote: Compressing objects:  52% (25/48)   \u001b[K\rremote: Compressing objects:  54% (26/48)   \u001b[K\rremote: Compressing objects:  56% (27/48)   \u001b[K\rremote: Compressing objects:  58% (28/48)   \u001b[K\rremote: Compressing objects:  60% (29/48)   \u001b[K\rremote: Compressing objects:  62% (30/48)   \u001b[K\rremote: Compressing objects:  64% (31/48)   \u001b[K\rremote: Compressing objects:  66% (32/48)   \u001b[K\rremote: Compressing objects:  68% (33/48)   \u001b[K\rremote: Compressing objects:  70% (34/48)   \u001b[K\rremote: Compressing objects:  72% (35/48)   \u001b[K\rremote: Compressing objects:  75% (36/48)   \u001b[K\rremote: Compressing objects:  77% (37/48)   \u001b[K\rremote: Compressing objects:  79% (38/48)   \u001b[K\rremote: Compressing objects:  81% (39/48)   \u001b[K\rremote: Compressing objects:  83% (40/48)   \u001b[K\rremote: Compressing objects:  85% (41/48)   \u001b[K\rremote: Compressing objects:  87% (42/48)   \u001b[K\rremote: Compressing objects:  89% (43/48)   \u001b[K\rremote: Compressing objects:  91% (44/48)   \u001b[K\rremote: Compressing objects:  93% (45/48)   \u001b[K\rremote: Compressing objects:  95% (46/48)   \u001b[K\rremote: Compressing objects:  97% (47/48)   \u001b[K\rremote: Compressing objects: 100% (48/48)   \u001b[K\rremote: Compressing objects: 100% (48/48), done.\u001b[K\n",
            "Receiving objects:   0% (1/479)   \rReceiving objects:   1% (5/479)   \rReceiving objects:   2% (10/479)   \rReceiving objects:   3% (15/479)   \rReceiving objects:   4% (20/479)   \rReceiving objects:   5% (24/479)   \rReceiving objects:   6% (29/479)   \rReceiving objects:   7% (34/479)   \rReceiving objects:   8% (39/479)   \rReceiving objects:   9% (44/479)   \rReceiving objects:  10% (48/479)   \rReceiving objects:  11% (53/479)   \rReceiving objects:  12% (58/479)   \rReceiving objects:  13% (63/479)   \rReceiving objects:  14% (68/479)   \rReceiving objects:  15% (72/479)   \rReceiving objects:  16% (77/479)   \rReceiving objects:  17% (82/479)   \rReceiving objects:  18% (87/479)   \rReceiving objects:  19% (92/479)   \rReceiving objects:  20% (96/479)   \rReceiving objects:  21% (101/479)   \rReceiving objects:  22% (106/479)   \rReceiving objects:  23% (111/479)   \rReceiving objects:  24% (115/479)   \rReceiving objects:  25% (120/479)   \rReceiving objects:  26% (125/479)   \rReceiving objects:  27% (130/479)   \rReceiving objects:  28% (135/479)   \rReceiving objects:  29% (139/479)   \rReceiving objects:  30% (144/479)   \rReceiving objects:  31% (149/479)   \rReceiving objects:  32% (154/479)   \rReceiving objects:  33% (159/479)   \rReceiving objects:  34% (163/479)   \rReceiving objects:  35% (168/479)   \rReceiving objects:  36% (173/479)   \rReceiving objects:  37% (178/479)   \rReceiving objects:  38% (183/479)   \rReceiving objects:  39% (187/479)   \rReceiving objects:  40% (192/479)   \rReceiving objects:  41% (197/479)   \rReceiving objects:  42% (202/479)   \rReceiving objects:  43% (206/479)   \rReceiving objects:  44% (211/479)   \rReceiving objects:  45% (216/479)   \rReceiving objects:  46% (221/479)   \rReceiving objects:  47% (226/479)   \rReceiving objects:  48% (230/479)   \rremote: Total 479 (delta 36), reused 44 (delta 18), pack-reused 413\u001b[K\n",
            "Receiving objects:  49% (235/479)   \rReceiving objects:  50% (240/479)   \rReceiving objects:  51% (245/479)   \rReceiving objects:  52% (250/479)   \rReceiving objects:  53% (254/479)   \rReceiving objects:  54% (259/479)   \rReceiving objects:  55% (264/479)   \rReceiving objects:  56% (269/479)   \rReceiving objects:  57% (274/479)   \rReceiving objects:  58% (278/479)   \rReceiving objects:  59% (283/479)   \rReceiving objects:  60% (288/479)   \rReceiving objects:  61% (293/479)   \rReceiving objects:  62% (297/479)   \rReceiving objects:  63% (302/479)   \rReceiving objects:  64% (307/479)   \rReceiving objects:  65% (312/479)   \rReceiving objects:  66% (317/479)   \rReceiving objects:  67% (321/479)   \rReceiving objects:  68% (326/479)   \rReceiving objects:  69% (331/479)   \rReceiving objects:  70% (336/479)   \rReceiving objects:  71% (341/479)   \rReceiving objects:  72% (345/479)   \rReceiving objects:  73% (350/479)   \rReceiving objects:  74% (355/479)   \rReceiving objects:  75% (360/479)   \rReceiving objects:  76% (365/479)   \rReceiving objects:  77% (369/479)   \rReceiving objects:  78% (374/479)   \rReceiving objects:  79% (379/479)   \rReceiving objects:  80% (384/479)   \rReceiving objects:  81% (388/479)   \rReceiving objects:  82% (393/479)   \rReceiving objects:  83% (398/479)   \rReceiving objects:  84% (403/479)   \rReceiving objects:  85% (408/479)   \rReceiving objects:  86% (412/479)   \rReceiving objects:  87% (417/479)   \rReceiving objects:  88% (422/479)   \rReceiving objects:  89% (427/479)   \rReceiving objects:  90% (432/479)   \rReceiving objects:  91% (436/479)   \rReceiving objects:  92% (441/479)   \rReceiving objects:  93% (446/479)   \rReceiving objects:  94% (451/479)   \rReceiving objects:  95% (456/479)   \rReceiving objects:  96% (460/479)   \rReceiving objects:  97% (465/479)   \rReceiving objects:  98% (470/479)   \rReceiving objects:  99% (475/479)   \rReceiving objects: 100% (479/479)   \rReceiving objects: 100% (479/479), 185.02 KiB | 3.78 MiB/s, done.\n",
            "Resolving deltas:   0% (0/252)   \rResolving deltas:   1% (3/252)   \rResolving deltas:   3% (9/252)   \rResolving deltas:   5% (15/252)   \rResolving deltas:   7% (18/252)   \rResolving deltas:  10% (26/252)   \rResolving deltas:  35% (89/252)   \rResolving deltas:  44% (113/252)   \rResolving deltas:  50% (127/252)   \rResolving deltas:  52% (133/252)   \rResolving deltas:  55% (139/252)   \rResolving deltas:  56% (143/252)   \rResolving deltas:  63% (160/252)   \rResolving deltas:  71% (181/252)   \rResolving deltas:  72% (182/252)   \rResolving deltas:  75% (190/252)   \rResolving deltas:  81% (206/252)   \rResolving deltas:  82% (209/252)   \rResolving deltas:  90% (227/252)   \rResolving deltas:  92% (232/252)   \rResolving deltas:  96% (243/252)   \rResolving deltas:  97% (245/252)   \rResolving deltas: 100% (252/252)   \rResolving deltas: 100% (252/252), done.\n"
          ],
          "name": "stdout"
        }
      ]
    },
    {
      "metadata": {
        "id": "lwFyTRJZBIAz",
        "colab_type": "code",
        "colab": {}
      },
      "cell_type": "code",
      "source": [
        "BATCH_SIZE = 512 #@param {type:\"integer\"}\n",
        "MOMENTUM = 0.9 #@param {type:\"number\"}\n",
        "LEARNING_RATE = 0.4 #@param {type:\"number\"}\n",
        "EPOCHS = 24 #@param {type:\"integer\"}\n",
        "WARMUP = 5 #@param {type:\"integer\"}\n",
        "BUCKET = 'gs://gs_colab' #@param {type:\"string\"}\n",
        "PROJECT = 'cifar10' #@param {type:\"string\"}"
      ],
      "execution_count": 0,
      "outputs": []
    },
    {
      "metadata": {
        "id": "wKUJ3WY-Kuvz",
        "colab_type": "code",
        "outputId": "4ef95bf5-b0c9-4a39-df24-94b5681ece6c",
        "colab": {
          "base_uri": "https://localhost:8080/",
          "height": 136
        }
      },
      "cell_type": "code",
      "source": [
        "fw.colab_tpu.setup_gcs()"
      ],
      "execution_count": 4,
      "outputs": [
        {
          "output_type": "stream",
          "text": [
            "\n",
            "WARNING: The TensorFlow contrib module will not be included in TensorFlow 2.0.\n",
            "For more information, please see:\n",
            "  * https://github.com/tensorflow/community/blob/master/rfcs/20180907-contrib-sunset.md\n",
            "  * https://github.com/tensorflow/addons\n",
            "If you depend on functionality not listed there, please file an issue.\n",
            "\n"
          ],
          "name": "stdout"
        }
      ]
    },
    {
      "metadata": {
        "id": "UHIichlmoFvq",
        "colab_type": "code",
        "colab": {}
      },
      "cell_type": "code",
      "source": [
        "data_dir, work_dir = fw.io.get_gcs_dirs(BUCKET, PROJECT)"
      ],
      "execution_count": 0,
      "outputs": []
    },
    {
      "metadata": {
        "id": "Kh5TMQtY9HHG",
        "colab_type": "code",
        "colab": {}
      },
      "cell_type": "code",
      "source": [
        "(X_train, y_train), (X_test, y_test) = tf.keras.datasets.cifar10.load_data()\n",
        "n_train, n_test = X_train.shape[0], X_test.shape[0]\n",
        "img_size = X_train.shape[1]\n",
        "n_classes = y_train.max() + 1"
      ],
      "execution_count": 0,
      "outputs": []
    },
    {
      "metadata": {
        "id": "gdLQxRpjS0VK",
        "colab_type": "code",
        "colab": {}
      },
      "cell_type": "code",
      "source": [
        "X_train_mean = np.mean(X_train, axis=(0,1,2))\n",
        "X_train_std = np.std(X_train, axis=(0,1,2))\n",
        "X_train = (X_train - X_train_mean) / X_train_std\n",
        "X_test = (X_test - X_train_mean) / X_train_std"
      ],
      "execution_count": 0,
      "outputs": []
    },
    {
      "metadata": {
        "id": "w7CbojUt9s6Z",
        "colab_type": "code",
        "colab": {}
      },
      "cell_type": "code",
      "source": [
        "train_fn = os.path.join(data_dir, \"train.tfrec\")\n",
        "test_fn = os.path.join(data_dir, \"test.tfrec\")\n",
        "\n",
        "fw.io.numpy_tfrecord(X_train, y_train, train_fn)\n",
        "fw.io.numpy_tfrecord(X_test, y_test, test_fn)"
      ],
      "execution_count": 0,
      "outputs": []
    },
    {
      "metadata": {
        "id": "6ui9NBGK_Quj",
        "colab_type": "code",
        "colab": {}
      },
      "cell_type": "code",
      "source": [
        "def train_parser(tfexample):\n",
        "  x, y = fw.io.tfexample_numpy_image_parser(tfexample, img_size, img_size)\n",
        "  x = fw.transform.ramdom_pad_crop(x, 4)\n",
        "  x = fw.transform.random_flip(x)\n",
        "  x = fw.transform.cutout(x, 8, 8)\n",
        "  return x, y\n",
        "\n",
        "test_parser = lambda x: fw.io.tfexample_numpy_image_parser(x, img_size, img_size)"
      ],
      "execution_count": 0,
      "outputs": []
    },
    {
      "metadata": {
        "id": "lL37esrUfUAs",
        "colab_type": "code",
        "colab": {}
      },
      "cell_type": "code",
      "source": [
        "train_input_func = lambda params: fw.io.tfrecord_ds(train_fn, train_parser, batch_size=params['batch_size'], training=True)\n",
        "eval_input_func = lambda params: fw.io.tfrecord_ds(test_fn, test_parser, batch_size=params['batch_size'], training=False)"
      ],
      "execution_count": 0,
      "outputs": []
    },
    {
      "metadata": {
        "id": "rYC04kE27DKP",
        "colab_type": "code",
        "colab": {}
      },
      "cell_type": "code",
      "source": [
        "def build_nn(c=64, weight=0.125):\n",
        "  model = fw.Sequential()\n",
        "  model.add(fw.layers.ConvBN(c, **fw.layers.PYTORCH_CONV_PARAMS))\n",
        "  model.add(fw.layers.ConvResBlk(c*2, res_convs=2, **fw.layers.PYTORCH_CONV_PARAMS))\n",
        "  model.add(fw.layers.ConvBlk(c*4, **fw.layers.PYTORCH_CONV_PARAMS))\n",
        "  model.add(fw.layers.ConvResBlk(c*8, res_convs=2, **fw.layers.PYTORCH_CONV_PARAMS))\n",
        "  model.add(tf.keras.layers.GlobalMaxPool2D())\n",
        "  model.add(tf.keras.layers.Dense(n_classes, kernel_initializer=fw.layers.init_pytorch, use_bias=False))\n",
        "  model.add(fw.layers.Scaling(weight))\n",
        "  return model"
      ],
      "execution_count": 0,
      "outputs": []
    },
    {
      "metadata": {
        "id": "B318eYzZy_ny",
        "colab_type": "code",
        "colab": {}
      },
      "cell_type": "code",
      "source": [
        "steps_per_epoch = n_train // BATCH_SIZE"
      ],
      "execution_count": 0,
      "outputs": []
    },
    {
      "metadata": {
        "id": "vJcoBT9IbRQc",
        "colab_type": "code",
        "colab": {}
      },
      "cell_type": "code",
      "source": [
        "opt_func = fw.train.sgd_triangle_one_cycle(EPOCHS*steps_per_epoch, lr=LEARNING_RATE/BATCH_SIZE, warmup_steps=WARMUP*steps_per_epoch, mom=MOMENTUM)\n",
        "model_func = fw.tpuest.get_clf_model_func(build_nn, opt_func, reduction=tf.losses.Reduction.SUM)"
      ],
      "execution_count": 0,
      "outputs": []
    },
    {
      "metadata": {
        "id": "crEvfYhhaohI",
        "colab_type": "code",
        "outputId": "c52bba84-d72b-4b8b-9573-8d68f7279bd5",
        "colab": {
          "base_uri": "https://localhost:8080/",
          "height": 2672
        }
      },
      "cell_type": "code",
      "source": [
        "est = fw.tpuest.get_tpu_estimator(n_train, n_test, model_func, work_dir, trn_bs=BATCH_SIZE)\n",
        "est.train(train_input_func, steps=steps_per_epoch*EPOCHS)"
      ],
      "execution_count": 14,
      "outputs": [
        {
          "output_type": "stream",
          "text": [
            "WARNING:tensorflow:Estimator's model_fn (<function get_clf_model_func.<locals>.model_func at 0x7f644e81fc80>) includes params argument, but params are not passed to Estimator.\n",
            "INFO:tensorflow:Using config: {'_model_dir': 'gs://gs_colab/work/cifar10-2019-04-10-17:46:37', '_tf_random_seed': None, '_save_summary_steps': 100, '_save_checkpoints_steps': None, '_save_checkpoints_secs': 600, '_session_config': allow_soft_placement: true\n",
            "cluster_def {\n",
            "  job {\n",
            "    name: \"worker\"\n",
            "    tasks {\n",
            "      key: 0\n",
            "      value: \"10.84.91.18:8470\"\n",
            "    }\n",
            "  }\n",
            "}\n",
            ", '_keep_checkpoint_max': 5, '_keep_checkpoint_every_n_hours': 10000, '_log_step_count_steps': None, '_train_distribute': None, '_device_fn': None, '_protocol': None, '_eval_distribute': None, '_experimental_distribute': None, '_service': None, '_cluster_spec': <tensorflow.python.training.server_lib.ClusterSpec object at 0x7f644e829b00>, '_task_type': 'worker', '_task_id': 0, '_global_id_in_cluster': 0, '_master': 'grpc://10.84.91.18:8470', '_evaluation_master': 'grpc://10.84.91.18:8470', '_is_chief': True, '_num_ps_replicas': 0, '_num_worker_replicas': 1, '_tpu_config': TPUConfig(iterations_per_loop=97, num_shards=None, num_cores_per_replica=None, per_host_input_for_training=3, tpu_job_name=None, initial_infeed_sleep_secs=None, input_partition_dims=None), '_cluster': <tensorflow.python.distribute.cluster_resolver.tpu_cluster_resolver.TPUClusterResolver object at 0x7f644e8299e8>}\n",
            "INFO:tensorflow:_TPUContext: eval_on_tpu True\n",
            "INFO:tensorflow:Querying Tensorflow master (grpc://10.84.91.18:8470) for TPU system metadata.\n",
            "INFO:tensorflow:Found TPU system:\n",
            "INFO:tensorflow:*** Num TPU Cores: 8\n",
            "INFO:tensorflow:*** Num TPU Workers: 1\n",
            "INFO:tensorflow:*** Num TPU Cores Per Worker: 8\n",
            "INFO:tensorflow:*** Available Device: _DeviceAttributes(/job:worker/replica:0/task:0/device:CPU:0, CPU, -1, 14015419757731134976)\n",
            "INFO:tensorflow:*** Available Device: _DeviceAttributes(/job:worker/replica:0/task:0/device:XLA_CPU:0, XLA_CPU, 17179869184, 17166867012795741837)\n",
            "INFO:tensorflow:*** Available Device: _DeviceAttributes(/job:worker/replica:0/task:0/device:TPU:0, TPU, 17179869184, 7597645363294900778)\n",
            "INFO:tensorflow:*** Available Device: _DeviceAttributes(/job:worker/replica:0/task:0/device:TPU:1, TPU, 17179869184, 5178226505878986509)\n",
            "INFO:tensorflow:*** Available Device: _DeviceAttributes(/job:worker/replica:0/task:0/device:TPU:2, TPU, 17179869184, 16332549810910408646)\n",
            "INFO:tensorflow:*** Available Device: _DeviceAttributes(/job:worker/replica:0/task:0/device:TPU:3, TPU, 17179869184, 8033142519499235469)\n",
            "INFO:tensorflow:*** Available Device: _DeviceAttributes(/job:worker/replica:0/task:0/device:TPU:4, TPU, 17179869184, 13357712179013500856)\n",
            "INFO:tensorflow:*** Available Device: _DeviceAttributes(/job:worker/replica:0/task:0/device:TPU:5, TPU, 17179869184, 5591555295467729828)\n",
            "INFO:tensorflow:*** Available Device: _DeviceAttributes(/job:worker/replica:0/task:0/device:TPU:6, TPU, 17179869184, 6107009262715010969)\n",
            "INFO:tensorflow:*** Available Device: _DeviceAttributes(/job:worker/replica:0/task:0/device:TPU:7, TPU, 17179869184, 11592412494259884284)\n",
            "INFO:tensorflow:*** Available Device: _DeviceAttributes(/job:worker/replica:0/task:0/device:TPU_SYSTEM:0, TPU_SYSTEM, 17179869184, 15596526040843958439)\n",
            "WARNING:tensorflow:From /usr/local/lib/python3.6/dist-packages/tensorflow/python/ops/resource_variable_ops.py:435: colocate_with (from tensorflow.python.framework.ops) is deprecated and will be removed in a future version.\n",
            "Instructions for updating:\n",
            "Colocations handled automatically by placer.\n",
            "INFO:tensorflow:Calling model_fn.\n",
            "WARNING:tensorflow:From /usr/local/lib/python3.6/dist-packages/tensorflow/python/ops/losses/losses_impl.py:209: to_float (from tensorflow.python.ops.math_ops) is deprecated and will be removed in a future version.\n",
            "Instructions for updating:\n",
            "Use tf.cast instead.\n",
            "WARNING:tensorflow:From /usr/local/lib/python3.6/dist-packages/tensorflow/python/ops/math_ops.py:3066: to_int32 (from tensorflow.python.ops.math_ops) is deprecated and will be removed in a future version.\n",
            "Instructions for updating:\n",
            "Use tf.cast instead.\n",
            "WARNING:tensorflow:From /usr/local/lib/python3.6/dist-packages/tensorflow/python/ops/math_grad.py:102: div (from tensorflow.python.ops.math_ops) is deprecated and will be removed in a future version.\n",
            "Instructions for updating:\n",
            "Deprecated in favor of operator or tf.math.divide.\n",
            "INFO:tensorflow:Create CheckpointSaverHook.\n",
            "INFO:tensorflow:Done calling model_fn.\n",
            "INFO:tensorflow:TPU job name worker\n",
            "INFO:tensorflow:Graph was finalized.\n",
            "INFO:tensorflow:Running local_init_op.\n",
            "INFO:tensorflow:Done running local_init_op.\n",
            "INFO:tensorflow:Saving checkpoints for 0 into gs://gs_colab/work/cifar10-2019-04-10-17:46:37/model.ckpt.\n",
            "INFO:tensorflow:Initialized dataset iterators in 0 seconds\n",
            "INFO:tensorflow:Installing graceful shutdown hook.\n",
            "INFO:tensorflow:Creating heartbeat manager for ['/job:worker/replica:0/task:0/device:CPU:0']\n",
            "INFO:tensorflow:Configuring worker heartbeat: shutdown_mode: WAIT_FOR_COORDINATOR\n",
            "\n",
            "INFO:tensorflow:Init TPU system\n",
            "INFO:tensorflow:Initialized TPU in 7 seconds\n",
            "INFO:tensorflow:Starting infeed thread controller.\n",
            "INFO:tensorflow:Starting outfeed thread controller.\n",
            "INFO:tensorflow:Enqueue next (97) batch(es) of data to infeed.\n",
            "INFO:tensorflow:Dequeue next (97) batch(es) of data from outfeed.\n",
            "INFO:tensorflow:loss = 75.1549, step = 97\n",
            "INFO:tensorflow:Enqueue next (97) batch(es) of data to infeed.\n",
            "INFO:tensorflow:Dequeue next (97) batch(es) of data from outfeed.\n",
            "INFO:tensorflow:Enqueue next (97) batch(es) of data to infeed.\n",
            "INFO:tensorflow:Dequeue next (97) batch(es) of data from outfeed.\n",
            "INFO:tensorflow:loss = 49.378845, step = 291 (3.792 sec)\n",
            "INFO:tensorflow:global_step/sec: 51.1761\n",
            "INFO:tensorflow:examples/sec: 26202.2\n",
            "INFO:tensorflow:Enqueue next (97) batch(es) of data to infeed.\n",
            "INFO:tensorflow:Dequeue next (97) batch(es) of data from outfeed.\n",
            "INFO:tensorflow:Enqueue next (97) batch(es) of data to infeed.\n",
            "INFO:tensorflow:Dequeue next (97) batch(es) of data from outfeed.\n",
            "INFO:tensorflow:loss = 24.576117, step = 485 (2.470 sec)\n",
            "INFO:tensorflow:global_step/sec: 78.5347\n",
            "INFO:tensorflow:examples/sec: 40209.8\n",
            "INFO:tensorflow:Enqueue next (97) batch(es) of data to infeed.\n",
            "INFO:tensorflow:Dequeue next (97) batch(es) of data from outfeed.\n",
            "INFO:tensorflow:Enqueue next (97) batch(es) of data to infeed.\n",
            "INFO:tensorflow:Dequeue next (97) batch(es) of data from outfeed.\n",
            "INFO:tensorflow:loss = 32.812996, step = 679 (2.478 sec)\n",
            "INFO:tensorflow:global_step/sec: 78.2966\n",
            "INFO:tensorflow:examples/sec: 40087.9\n",
            "INFO:tensorflow:Enqueue next (97) batch(es) of data to infeed.\n",
            "INFO:tensorflow:Dequeue next (97) batch(es) of data from outfeed.\n",
            "INFO:tensorflow:Enqueue next (97) batch(es) of data to infeed.\n",
            "INFO:tensorflow:Dequeue next (97) batch(es) of data from outfeed.\n",
            "INFO:tensorflow:loss = 14.725165, step = 873 (2.481 sec)\n",
            "INFO:tensorflow:global_step/sec: 78.1924\n",
            "INFO:tensorflow:examples/sec: 40034.5\n",
            "INFO:tensorflow:Enqueue next (97) batch(es) of data to infeed.\n",
            "INFO:tensorflow:Dequeue next (97) batch(es) of data from outfeed.\n",
            "INFO:tensorflow:Enqueue next (97) batch(es) of data to infeed.\n",
            "INFO:tensorflow:Dequeue next (97) batch(es) of data from outfeed.\n",
            "INFO:tensorflow:loss = 8.490792, step = 1067 (2.503 sec)\n",
            "INFO:tensorflow:global_step/sec: 77.5014\n",
            "INFO:tensorflow:examples/sec: 39680.7\n",
            "INFO:tensorflow:Enqueue next (97) batch(es) of data to infeed.\n",
            "INFO:tensorflow:Dequeue next (97) batch(es) of data from outfeed.\n",
            "INFO:tensorflow:Enqueue next (97) batch(es) of data to infeed.\n",
            "INFO:tensorflow:Dequeue next (97) batch(es) of data from outfeed.\n",
            "INFO:tensorflow:loss = 10.368946, step = 1261 (2.509 sec)\n",
            "INFO:tensorflow:global_step/sec: 77.3498\n",
            "INFO:tensorflow:examples/sec: 39603.1\n",
            "INFO:tensorflow:Enqueue next (97) batch(es) of data to infeed.\n",
            "INFO:tensorflow:Dequeue next (97) batch(es) of data from outfeed.\n",
            "INFO:tensorflow:Enqueue next (97) batch(es) of data to infeed.\n",
            "INFO:tensorflow:Dequeue next (97) batch(es) of data from outfeed.\n",
            "INFO:tensorflow:loss = 21.66925, step = 1455 (2.474 sec)\n",
            "INFO:tensorflow:global_step/sec: 78.3315\n",
            "INFO:tensorflow:examples/sec: 40105.7\n",
            "INFO:tensorflow:Enqueue next (97) batch(es) of data to infeed.\n",
            "INFO:tensorflow:Dequeue next (97) batch(es) of data from outfeed.\n",
            "INFO:tensorflow:Enqueue next (97) batch(es) of data to infeed.\n",
            "INFO:tensorflow:Dequeue next (97) batch(es) of data from outfeed.\n",
            "INFO:tensorflow:loss = 6.5119476, step = 1649 (2.918 sec)\n",
            "INFO:tensorflow:global_step/sec: 66.5069\n",
            "INFO:tensorflow:examples/sec: 34051.5\n",
            "INFO:tensorflow:Enqueue next (97) batch(es) of data to infeed.\n",
            "INFO:tensorflow:Dequeue next (97) batch(es) of data from outfeed.\n",
            "INFO:tensorflow:Enqueue next (97) batch(es) of data to infeed.\n",
            "INFO:tensorflow:Dequeue next (97) batch(es) of data from outfeed.\n",
            "INFO:tensorflow:loss = 11.610427, step = 1843 (2.482 sec)\n",
            "INFO:tensorflow:global_step/sec: 78.1513\n",
            "INFO:tensorflow:examples/sec: 40013.5\n",
            "INFO:tensorflow:Enqueue next (97) batch(es) of data to infeed.\n",
            "INFO:tensorflow:Dequeue next (97) batch(es) of data from outfeed.\n",
            "INFO:tensorflow:Enqueue next (97) batch(es) of data to infeed.\n",
            "INFO:tensorflow:Dequeue next (97) batch(es) of data from outfeed.\n",
            "INFO:tensorflow:loss = 2.2986863, step = 2037 (2.494 sec)\n",
            "INFO:tensorflow:global_step/sec: 77.8011\n",
            "INFO:tensorflow:examples/sec: 39834.2\n",
            "INFO:tensorflow:Enqueue next (97) batch(es) of data to infeed.\n",
            "INFO:tensorflow:Dequeue next (97) batch(es) of data from outfeed.\n",
            "INFO:tensorflow:Enqueue next (97) batch(es) of data to infeed.\n",
            "INFO:tensorflow:Dequeue next (97) batch(es) of data from outfeed.\n",
            "INFO:tensorflow:loss = 8.449803, step = 2231 (2.482 sec)\n",
            "INFO:tensorflow:global_step/sec: 78.1816\n",
            "INFO:tensorflow:examples/sec: 40029\n",
            "INFO:tensorflow:Enqueue next (97) batch(es) of data to infeed.\n",
            "INFO:tensorflow:Dequeue next (97) batch(es) of data from outfeed.\n",
            "INFO:tensorflow:Saving checkpoints for 2328 into gs://gs_colab/work/cifar10-2019-04-10-17:46:37/model.ckpt.\n",
            "INFO:tensorflow:Stop infeed thread controller\n",
            "INFO:tensorflow:Shutting down InfeedController thread.\n",
            "INFO:tensorflow:InfeedController received shutdown signal, stopping.\n",
            "INFO:tensorflow:Infeed thread finished, shutting down.\n",
            "INFO:tensorflow:infeed marked as finished\n",
            "INFO:tensorflow:Stop output thread controller\n",
            "INFO:tensorflow:Shutting down OutfeedController thread.\n",
            "INFO:tensorflow:OutfeedController received shutdown signal, stopping.\n",
            "INFO:tensorflow:Outfeed thread finished, shutting down.\n",
            "INFO:tensorflow:outfeed marked as finished\n",
            "INFO:tensorflow:Shutdown TPU system.\n",
            "INFO:tensorflow:Loss for final step: 4.646487.\n",
            "INFO:tensorflow:training_loop marked as finished\n"
          ],
          "name": "stdout"
        },
        {
          "output_type": "execute_result",
          "data": {
            "text/plain": [
              "<tensorflow.contrib.tpu.python.tpu.tpu_estimator.TPUEstimator at 0x7f644e829908>"
            ]
          },
          "metadata": {
            "tags": []
          },
          "execution_count": 14
        }
      ]
    },
    {
      "metadata": {
        "id": "m6sju7JJxTfR",
        "colab_type": "code",
        "outputId": "c8f97dac-00fa-42f7-a44a-3f6270163c10",
        "colab": {
          "base_uri": "https://localhost:8080/",
          "height": 615
        }
      },
      "cell_type": "code",
      "source": [
        "result = est.evaluate(eval_input_func, steps=1)"
      ],
      "execution_count": 15,
      "outputs": [
        {
          "output_type": "stream",
          "text": [
            "INFO:tensorflow:Calling model_fn.\n",
            "INFO:tensorflow:Done calling model_fn.\n",
            "INFO:tensorflow:Starting evaluation at 2019-04-10T17:47:42Z\n",
            "INFO:tensorflow:TPU job name worker\n",
            "INFO:tensorflow:Graph was finalized.\n",
            "WARNING:tensorflow:From /usr/local/lib/python3.6/dist-packages/tensorflow/python/training/saver.py:1266: checkpoint_exists (from tensorflow.python.training.checkpoint_management) is deprecated and will be removed in a future version.\n",
            "Instructions for updating:\n",
            "Use standard file APIs to check for files with this prefix.\n",
            "INFO:tensorflow:Restoring parameters from gs://gs_colab/work/cifar10-2019-04-10-17:46:37/model.ckpt-2328\n",
            "INFO:tensorflow:Running local_init_op.\n",
            "INFO:tensorflow:Done running local_init_op.\n",
            "INFO:tensorflow:Init TPU system\n",
            "INFO:tensorflow:Initialized TPU in 10 seconds\n",
            "INFO:tensorflow:Starting infeed thread controller.\n",
            "INFO:tensorflow:Starting outfeed thread controller.\n",
            "INFO:tensorflow:Initialized dataset iterators in 0 seconds\n",
            "INFO:tensorflow:Enqueue next (1) batch(es) of data to infeed.\n",
            "INFO:tensorflow:Dequeue next (1) batch(es) of data from outfeed.\n",
            "INFO:tensorflow:Evaluation [1/1]\n",
            "INFO:tensorflow:Stop infeed thread controller\n",
            "INFO:tensorflow:Shutting down InfeedController thread.\n",
            "INFO:tensorflow:InfeedController received shutdown signal, stopping.\n",
            "INFO:tensorflow:Infeed thread finished, shutting down.\n",
            "INFO:tensorflow:infeed marked as finished\n",
            "INFO:tensorflow:Stop output thread controller\n",
            "INFO:tensorflow:Shutting down OutfeedController thread.\n",
            "INFO:tensorflow:OutfeedController received shutdown signal, stopping.\n",
            "INFO:tensorflow:Outfeed thread finished, shutting down.\n",
            "INFO:tensorflow:outfeed marked as finished\n",
            "INFO:tensorflow:Shutdown TPU system.\n",
            "INFO:tensorflow:Finished evaluation at 2019-04-10-17:47:57\n",
            "INFO:tensorflow:Saving dict for global step 2328: accuracy = 0.9328, global_step = 2328, loss = 227.06471\n",
            "INFO:tensorflow:Saving 'checkpoint_path' summary for global step 2328: gs://gs_colab/work/cifar10-2019-04-10-17:46:37/model.ckpt-2328\n",
            "INFO:tensorflow:evaluation_loop marked as finished\n"
          ],
          "name": "stdout"
        }
      ]
    },
    {
      "metadata": {
        "id": "qPWk7dPSplVE",
        "colab_type": "code",
        "colab": {
          "base_uri": "https://localhost:8080/",
          "height": 34
        },
        "outputId": "417b2a6f-5e0a-49a4-8ce6-022246421882"
      },
      "cell_type": "code",
      "source": [
        "print(f'Test results: accuracy={result[\"accuracy\"] * 100: .2f}%, loss={result[\"loss\"]: .2f}.')"
      ],
      "execution_count": 16,
      "outputs": [
        {
          "output_type": "stream",
          "text": [
            "Test results: accuracy= 93.28%, loss= 227.06.\n"
          ],
          "name": "stdout"
        }
      ]
    },
    {
      "metadata": {
        "id": "xSNGSZXKpwB4",
        "colab_type": "code",
        "colab": {}
      },
      "cell_type": "code",
      "source": [
        "fw.io.create_clean_dir(work_dir)"
      ],
      "execution_count": 0,
      "outputs": []
    },
    {
      "metadata": {
        "id": "gelIrssytT5X",
        "colab_type": "code",
        "colab": {}
      },
      "cell_type": "code",
      "source": [
        ""
      ],
      "execution_count": 0,
      "outputs": []
    }
  ]
}