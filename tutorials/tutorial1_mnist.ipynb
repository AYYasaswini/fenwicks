{
  "nbformat": 4,
  "nbformat_minor": 0,
  "metadata": {
    "colab": {
      "name": "tutorial1_mnist.ipynb",
      "version": "0.3.2",
      "provenance": [],
      "collapsed_sections": []
    },
    "kernelspec": {
      "name": "python3",
      "display_name": "Python 3"
    },
    "accelerator": "TPU"
  },
  "cells": [
    {
      "metadata": {
        "id": "vinGehwdBAGm",
        "colab_type": "code",
        "colab": {}
      },
      "cell_type": "code",
      "source": [
        "import tensorflow as tf\n",
        "import os"
      ],
      "execution_count": 0,
      "outputs": []
    },
    {
      "metadata": {
        "id": "uCxEXH6qEgr8",
        "colab_type": "code",
        "outputId": "b8ceb2e1-8ba8-4672-ba63-a1b987a0d1e9",
        "colab": {
          "base_uri": "https://localhost:8080/",
          "height": 136
        }
      },
      "cell_type": "code",
      "source": [
        "if tf.gfile.Exists('./fenwicks'):\n",
        "  tf.gfile.DeleteRecursively('./fenwicks')\n",
        "!git clone https://github.com/fenwickslab/fenwicks.git\n",
        "\n",
        "import fenwicks as fw"
      ],
      "execution_count": 0,
      "outputs": [
        {
          "output_type": "stream",
          "text": [
            "Cloning into 'fenwicks'...\n",
            "remote: Enumerating objects: 87, done.\u001b[K\n",
            "remote: Counting objects:   1% (1/87)   \u001b[K\rremote: Counting objects:   2% (2/87)   \u001b[K\rremote: Counting objects:   3% (3/87)   \u001b[K\rremote: Counting objects:   4% (4/87)   \u001b[K\rremote: Counting objects:   5% (5/87)   \u001b[K\rremote: Counting objects:   6% (6/87)   \u001b[K\rremote: Counting objects:   8% (7/87)   \u001b[K\rremote: Counting objects:   9% (8/87)   \u001b[K\rremote: Counting objects:  10% (9/87)   \u001b[K\rremote: Counting objects:  11% (10/87)   \u001b[K\rremote: Counting objects:  12% (11/87)   \u001b[K\rremote: Counting objects:  13% (12/87)   \u001b[K\rremote: Counting objects:  14% (13/87)   \u001b[K\rremote: Counting objects:  16% (14/87)   \u001b[K\rremote: Counting objects:  17% (15/87)   \u001b[K\rremote: Counting objects:  18% (16/87)   \u001b[K\rremote: Counting objects:  19% (17/87)   \u001b[K\rremote: Counting objects:  20% (18/87)   \u001b[K\rremote: Counting objects:  21% (19/87)   \u001b[K\rremote: Counting objects:  22% (20/87)   \u001b[K\rremote: Counting objects:  24% (21/87)   \u001b[K\rremote: Counting objects:  25% (22/87)   \u001b[K\rremote: Counting objects:  26% (23/87)   \u001b[K\rremote: Counting objects:  27% (24/87)   \u001b[K\rremote: Counting objects:  28% (25/87)   \u001b[K\rremote: Counting objects:  29% (26/87)   \u001b[K\rremote: Counting objects:  31% (27/87)   \u001b[K\rremote: Counting objects:  32% (28/87)   \u001b[K\rremote: Counting objects:  33% (29/87)   \u001b[K\rremote: Counting objects:  34% (30/87)   \u001b[K\rremote: Counting objects:  35% (31/87)   \u001b[K\rremote: Counting objects:  36% (32/87)   \u001b[K\rremote: Counting objects:  37% (33/87)   \u001b[K\rremote: Counting objects:  39% (34/87)   \u001b[K\rremote: Counting objects:  40% (35/87)   \u001b[K\rremote: Counting objects:  41% (36/87)   \u001b[K\rremote: Counting objects:  42% (37/87)   \u001b[K\rremote: Counting objects:  43% (38/87)   \u001b[K\rremote: Counting objects:  44% (39/87)   \u001b[K\rremote: Counting objects:  45% (40/87)   \u001b[K\rremote: Counting objects:  47% (41/87)   \u001b[K\rremote: Counting objects:  48% (42/87)   \u001b[K\rremote: Counting objects:  49% (43/87)   \u001b[K\rremote: Counting objects:  50% (44/87)   \u001b[K\rremote: Counting objects:  51% (45/87)   \u001b[K\rremote: Counting objects:  52% (46/87)   \u001b[K\rremote: Counting objects:  54% (47/87)   \u001b[K\rremote: Counting objects:  55% (48/87)   \u001b[K\rremote: Counting objects:  56% (49/87)   \u001b[K\rremote: Counting objects:  57% (50/87)   \u001b[K\rremote: Counting objects:  58% (51/87)   \u001b[K\rremote: Counting objects:  59% (52/87)   \u001b[K\rremote: Counting objects:  60% (53/87)   \u001b[K\rremote: Counting objects:  62% (54/87)   \u001b[K\rremote: Counting objects:  63% (55/87)   \u001b[K\rremote: Counting objects:  64% (56/87)   \u001b[K\rremote: Counting objects:  65% (57/87)   \u001b[K\rremote: Counting objects:  66% (58/87)   \u001b[K\rremote: Counting objects:  67% (59/87)   \u001b[K\rremote: Counting objects:  68% (60/87)   \u001b[K\rremote: Counting objects:  70% (61/87)   \u001b[K\rremote: Counting objects:  71% (62/87)   \u001b[K\rremote: Counting objects:  72% (63/87)   \u001b[K\rremote: Counting objects:  73% (64/87)   \u001b[K\rremote: Counting objects:  74% (65/87)   \u001b[K\rremote: Counting objects:  75% (66/87)   \u001b[K\rremote: Counting objects:  77% (67/87)   \u001b[K\rremote: Counting objects:  78% (68/87)   \u001b[K\rremote: Counting objects:  79% (69/87)   \u001b[K\rremote: Counting objects:  80% (70/87)   \u001b[K\rremote: Counting objects:  81% (71/87)   \u001b[K\rremote: Counting objects:  82% (72/87)   \u001b[K\rremote: Counting objects:  83% (73/87)   \u001b[K\rremote: Counting objects:  85% (74/87)   \u001b[K\rremote: Counting objects:  86% (75/87)   \u001b[K\rremote: Counting objects:  87% (76/87)   \u001b[K\rremote: Counting objects:  88% (77/87)   \u001b[K\rremote: Counting objects:  89% (78/87)   \u001b[K\rremote: Counting objects:  90% (79/87)   \u001b[K\rremote: Counting objects:  91% (80/87)   \u001b[K\rremote: Counting objects:  93% (81/87)   \u001b[K\rremote: Counting objects:  94% (82/87)   \u001b[K\rremote: Counting objects:  95% (83/87)   \u001b[K\rremote: Counting objects:  96% (84/87)   \u001b[K\rremote: Counting objects:  97% (85/87)   \u001b[K\rremote: Counting objects:  98% (86/87)   \u001b[K\rremote: Counting objects: 100% (87/87)   \u001b[K\rremote: Counting objects: 100% (87/87), done.\u001b[K\n",
            "remote: Compressing objects:   1% (1/64)   \u001b[K\rremote: Compressing objects:   3% (2/64)   \u001b[K\rremote: Compressing objects:   4% (3/64)   \u001b[K\rremote: Compressing objects:   6% (4/64)   \u001b[K\rremote: Compressing objects:   7% (5/64)   \u001b[K\rremote: Compressing objects:   9% (6/64)   \u001b[K\rremote: Compressing objects:  10% (7/64)   \u001b[K\rremote: Compressing objects:  12% (8/64)   \u001b[K\rremote: Compressing objects:  14% (9/64)   \u001b[K\rremote: Compressing objects:  15% (10/64)   \u001b[K\rremote: Compressing objects:  17% (11/64)   \u001b[K\rremote: Compressing objects:  18% (12/64)   \u001b[K\rremote: Compressing objects:  20% (13/64)   \u001b[K\rremote: Compressing objects:  21% (14/64)   \u001b[K\rremote: Compressing objects:  23% (15/64)   \u001b[K\rremote: Compressing objects:  25% (16/64)   \u001b[K\rremote: Compressing objects:  26% (17/64)   \u001b[K\rremote: Compressing objects:  28% (18/64)   \u001b[K\rremote: Compressing objects:  29% (19/64)   \u001b[K\rremote: Compressing objects:  31% (20/64)   \u001b[K\rremote: Compressing objects:  32% (21/64)   \u001b[K\rremote: Compressing objects:  34% (22/64)   \u001b[K\rremote: Compressing objects:  35% (23/64)   \u001b[K\rremote: Compressing objects:  37% (24/64)   \u001b[K\rremote: Compressing objects:  39% (25/64)   \u001b[K\rremote: Compressing objects:  40% (26/64)   \u001b[K\rremote: Compressing objects:  42% (27/64)   \u001b[K\rremote: Compressing objects:  43% (28/64)   \u001b[K\rremote: Compressing objects:  45% (29/64)   \u001b[K\rremote: Compressing objects:  46% (30/64)   \u001b[K\rremote: Compressing objects:  48% (31/64)   \u001b[K\rremote: Compressing objects:  50% (32/64)   \u001b[K\rremote: Compressing objects:  51% (33/64)   \u001b[K\rremote: Compressing objects:  53% (34/64)   \u001b[K\rremote: Compressing objects:  54% (35/64)   \u001b[K\rremote: Compressing objects:  56% (36/64)   \u001b[K\rremote: Compressing objects:  57% (37/64)   \u001b[K\rremote: Compressing objects:  59% (38/64)   \u001b[K\rremote: Compressing objects:  60% (39/64)   \u001b[K\rremote: Compressing objects:  62% (40/64)   \u001b[K\rremote: Compressing objects:  64% (41/64)   \u001b[K\rremote: Compressing objects:  65% (42/64)   \u001b[K\rremote: Compressing objects:  67% (43/64)   \u001b[K\rremote: Compressing objects:  68% (44/64)   \u001b[K\rremote: Compressing objects:  70% (45/64)   \u001b[K\rremote: Compressing objects:  71% (46/64)   \u001b[K\rremote: Compressing objects:  73% (47/64)   \u001b[K\rremote: Compressing objects:  75% (48/64)   \u001b[K\rremote: Compressing objects:  76% (49/64)   \u001b[K\rremote: Compressing objects:  78% (50/64)   \u001b[K\rremote: Compressing objects:  79% (51/64)   \u001b[K\rremote: Compressing objects:  81% (52/64)   \u001b[K\rremote: Compressing objects:  82% (53/64)   \u001b[K\rremote: Compressing objects:  84% (54/64)   \u001b[K\rremote: Compressing objects:  85% (55/64)   \u001b[K\rremote: Compressing objects:  87% (56/64)   \u001b[K\rremote: Compressing objects:  89% (57/64)   \u001b[K\rremote: Compressing objects:  90% (58/64)   \u001b[K\rremote: Compressing objects:  92% (59/64)   \u001b[K\rremote: Compressing objects:  93% (60/64)   \u001b[K\rremote: Compressing objects:  95% (61/64)   \u001b[K\rremote: Compressing objects:  96% (62/64)   \u001b[K\rremote: Compressing objects:  98% (63/64)   \u001b[K\rremote: Compressing objects: 100% (64/64)   \u001b[K\rremote: Compressing objects: 100% (64/64), done.\u001b[K\n",
            "Receiving objects:   0% (1/500)   \rReceiving objects:   1% (5/500)   \rReceiving objects:   2% (10/500)   \rReceiving objects:   3% (15/500)   \rReceiving objects:   4% (20/500)   \rReceiving objects:   5% (25/500)   \rReceiving objects:   6% (30/500)   \rReceiving objects:   7% (35/500)   \rReceiving objects:   8% (40/500)   \rReceiving objects:   9% (45/500)   \rReceiving objects:  10% (50/500)   \rReceiving objects:  11% (55/500)   \rReceiving objects:  12% (60/500)   \rReceiving objects:  13% (65/500)   \rReceiving objects:  14% (70/500)   \rReceiving objects:  15% (75/500)   \rReceiving objects:  16% (80/500)   \rReceiving objects:  17% (85/500)   \rReceiving objects:  18% (90/500)   \rReceiving objects:  19% (95/500)   \rReceiving objects:  20% (100/500)   \rReceiving objects:  21% (105/500)   \rReceiving objects:  22% (110/500)   \rReceiving objects:  23% (115/500)   \rReceiving objects:  24% (120/500)   \rReceiving objects:  25% (125/500)   \rReceiving objects:  26% (130/500)   \rReceiving objects:  27% (135/500)   \rReceiving objects:  28% (140/500)   \rReceiving objects:  29% (145/500)   \rReceiving objects:  30% (150/500)   \rReceiving objects:  31% (155/500)   \rReceiving objects:  32% (160/500)   \rReceiving objects:  33% (165/500)   \rReceiving objects:  34% (170/500)   \rReceiving objects:  35% (175/500)   \rReceiving objects:  36% (180/500)   \rReceiving objects:  37% (185/500)   \rReceiving objects:  38% (190/500)   \rReceiving objects:  39% (195/500)   \rReceiving objects:  40% (200/500)   \rReceiving objects:  41% (205/500)   \rReceiving objects:  42% (210/500)   \rReceiving objects:  43% (215/500)   \rReceiving objects:  44% (220/500)   \rReceiving objects:  45% (225/500)   \rReceiving objects:  46% (230/500)   \rReceiving objects:  47% (235/500)   \rReceiving objects:  48% (240/500)   \rReceiving objects:  49% (245/500)   \rReceiving objects:  50% (250/500)   \rReceiving objects:  51% (255/500)   \rReceiving objects:  52% (260/500)   \rReceiving objects:  53% (265/500)   \rReceiving objects:  54% (270/500)   \rReceiving objects:  55% (275/500)   \rReceiving objects:  56% (280/500)   \rReceiving objects:  57% (285/500)   \rReceiving objects:  58% (290/500)   \rReceiving objects:  59% (295/500)   \rReceiving objects:  60% (300/500)   \rReceiving objects:  61% (305/500)   \rReceiving objects:  62% (310/500)   \rReceiving objects:  63% (315/500)   \rReceiving objects:  64% (320/500)   \rReceiving objects:  65% (325/500)   \rReceiving objects:  66% (330/500)   \rReceiving objects:  67% (335/500)   \rReceiving objects:  68% (340/500)   \rReceiving objects:  69% (345/500)   \rReceiving objects:  70% (350/500)   \rReceiving objects:  71% (355/500)   \rReceiving objects:  72% (360/500)   \rReceiving objects:  73% (365/500)   \rReceiving objects:  74% (370/500)   \rReceiving objects:  75% (375/500)   \rReceiving objects:  76% (380/500)   \rReceiving objects:  77% (385/500)   \rReceiving objects:  78% (390/500)   \rReceiving objects:  79% (395/500)   \rReceiving objects:  80% (400/500)   \rReceiving objects:  81% (405/500)   \rReceiving objects:  82% (410/500)   \rReceiving objects:  83% (415/500)   \rReceiving objects:  84% (420/500)   \rReceiving objects:  85% (425/500)   \rReceiving objects:  86% (430/500)   \rReceiving objects:  87% (435/500)   \rReceiving objects:  88% (440/500)   \rReceiving objects:  89% (445/500)   \rReceiving objects:  90% (450/500)   \rReceiving objects:  91% (455/500)   \rremote: Total 500 (delta 47), reused 58 (delta 23), pack-reused 413\u001b[K\n",
            "Receiving objects:  92% (460/500)   \rReceiving objects:  93% (465/500)   \rReceiving objects:  94% (470/500)   \rReceiving objects:  95% (475/500)   \rReceiving objects:  96% (480/500)   \rReceiving objects:  97% (485/500)   \rReceiving objects:  98% (490/500)   \rReceiving objects:  99% (495/500)   \rReceiving objects: 100% (500/500)   \rReceiving objects: 100% (500/500), 265.43 KiB | 4.74 MiB/s, done.\n",
            "Resolving deltas:   0% (0/263)   \rResolving deltas:   1% (5/263)   \rResolving deltas:   4% (12/263)   \rResolving deltas:   6% (18/263)   \rResolving deltas:   7% (21/263)   \rResolving deltas:  11% (30/263)   \rResolving deltas:  33% (88/263)   \rResolving deltas:  42% (113/263)   \rResolving deltas:  48% (127/263)   \rResolving deltas:  51% (136/263)   \rResolving deltas:  52% (139/263)   \rResolving deltas:  54% (143/263)   \rResolving deltas:  60% (160/263)   \rResolving deltas:  68% (181/263)   \rResolving deltas:  69% (182/263)   \rResolving deltas:  72% (190/263)   \rResolving deltas:  78% (206/263)   \rResolving deltas:  79% (209/263)   \rResolving deltas:  88% (232/263)   \rResolving deltas:  90% (237/263)   \rResolving deltas:  94% (248/263)   \rResolving deltas:  95% (251/263)   \rResolving deltas:  96% (254/263)   \rResolving deltas:  97% (256/263)   \rResolving deltas: 100% (263/263)   \rResolving deltas: 100% (263/263), done.\n"
          ],
          "name": "stdout"
        }
      ]
    },
    {
      "metadata": {
        "id": "lwFyTRJZBIAz",
        "colab_type": "code",
        "colab": {}
      },
      "cell_type": "code",
      "source": [
        "BATCH_SIZE = 256 #@param {type:\"integer\"}\n",
        "BUCKET = 'gs://gs_colab' #@param {type:\"string\"}\n",
        "PROJECT = 'mnist' #@param {type:\"string\"}\n",
        "EPOCHS = 24 #@param {type:\"integer\"}\n",
        "\n"
      ],
      "execution_count": 0,
      "outputs": []
    },
    {
      "metadata": {
        "id": "sKNkoJZa5QPP",
        "colab_type": "code",
        "outputId": "869753d4-c42a-4656-cc23-16141faffc54",
        "colab": {
          "base_uri": "https://localhost:8080/",
          "height": 136
        }
      },
      "cell_type": "code",
      "source": [
        "fw.colab_tpu.setup_gcs()"
      ],
      "execution_count": 0,
      "outputs": [
        {
          "output_type": "stream",
          "text": [
            "\n",
            "WARNING: The TensorFlow contrib module will not be included in TensorFlow 2.0.\n",
            "For more information, please see:\n",
            "  * https://github.com/tensorflow/community/blob/master/rfcs/20180907-contrib-sunset.md\n",
            "  * https://github.com/tensorflow/addons\n",
            "If you depend on functionality not listed there, please file an issue.\n",
            "\n"
          ],
          "name": "stdout"
        }
      ]
    },
    {
      "metadata": {
        "id": "B8kJRkpbEy_H",
        "colab_type": "code",
        "colab": {}
      },
      "cell_type": "code",
      "source": [
        "_, work_dir = fw.io.get_gcs_dirs(BUCKET, PROJECT)"
      ],
      "execution_count": 0,
      "outputs": []
    },
    {
      "metadata": {
        "id": "zdA7NOH7aIWL",
        "colab_type": "code",
        "colab": {}
      },
      "cell_type": "code",
      "source": [
        "(X_train, y_train), (X_test, y_test) = tf.keras.datasets.mnist.load_data()\n",
        "n_train, n_test = len(X_train), len(X_test)\n",
        "X_train = (X_train.reshape(-1, 28, 28, 1) / 255.0).astype('float32')\n",
        "X_test = (X_test.reshape(-1, 28, 28, 1) / 255.0).astype('float32')\n",
        "y_train = y_train.astype('int64')\n",
        "y_test = y_test.astype('int64')"
      ],
      "execution_count": 0,
      "outputs": []
    },
    {
      "metadata": {
        "id": "GxGnaEpgGwjJ",
        "colab_type": "code",
        "colab": {}
      },
      "cell_type": "code",
      "source": [
        "train_input_func = lambda params: fw.io.numpy_ds(X_train, y_train, batch_size=params['batch_size'], shuffle_buf_sz=n_train, training=True)\n",
        "eval_input_func = lambda params: fw.io.numpy_ds(X_test, y_test, batch_size=params['batch_size'], training=False)"
      ],
      "execution_count": 0,
      "outputs": []
    },
    {
      "metadata": {
        "id": "udmOeFNQIOt8",
        "colab_type": "code",
        "colab": {}
      },
      "cell_type": "code",
      "source": [
        "def build_nn(c=6, c_dense=200):\n",
        "  model = fw.Sequential()\n",
        "  model.add(fw.layers.ConvBN(c, kernel_size=3))\n",
        "  model.add(fw.layers.ConvBN(c*2, kernel_size=6, strides=2))\n",
        "  model.add(fw.layers.ConvBN(c*4, kernel_size=6, strides=2))\n",
        "  model.add(tf.layers.Flatten())\n",
        "  model.add(fw.layers.DenseBlk(c_dense, drop_rate=0.5))\n",
        "  model.add(tf.keras.layers.Dense(10, use_bias=False))\n",
        "  return model"
      ],
      "execution_count": 0,
      "outputs": []
    },
    {
      "metadata": {
        "id": "5a9tDQl3MaN9",
        "colab_type": "code",
        "colab": {}
      },
      "cell_type": "code",
      "source": [
        "steps_per_epoch = n_train // BATCH_SIZE\n",
        "opt_func = fw.train.adam_exp_decay(base_lr=0.0001, init_lr=0.01, decay_steps=2000)\n",
        "model_func = fw.tpuest.get_clf_model_func(build_nn, opt_func)"
      ],
      "execution_count": 0,
      "outputs": []
    },
    {
      "metadata": {
        "id": "crEvfYhhaohI",
        "colab_type": "code",
        "outputId": "c98212c1-2673-4423-bfaa-b7a2dfda98bd",
        "colab": {
          "base_uri": "https://localhost:8080/",
          "height": 3284
        }
      },
      "cell_type": "code",
      "source": [
        "est = fw.tpuest.get_tpu_estimator(n_train, n_test, model_func, work_dir, trn_bs=BATCH_SIZE)\n",
        "est.train(train_input_func, steps=steps_per_epoch*EPOCHS)"
      ],
      "execution_count": 0,
      "outputs": [
        {
          "output_type": "stream",
          "text": [
            "WARNING:tensorflow:Estimator's model_fn (<function get_clf_model_func.<locals>.model_func at 0x7f891e8018c8>) includes params argument, but params are not passed to Estimator.\n",
            "INFO:tensorflow:Using config: {'_model_dir': 'gs://gs_colab/work/mnist/2019-04-11-11:17:27', '_tf_random_seed': None, '_save_summary_steps': 100, '_save_checkpoints_steps': None, '_save_checkpoints_secs': 600, '_session_config': allow_soft_placement: true\n",
            "cluster_def {\n",
            "  job {\n",
            "    name: \"worker\"\n",
            "    tasks {\n",
            "      key: 0\n",
            "      value: \"10.120.130.154:8470\"\n",
            "    }\n",
            "  }\n",
            "}\n",
            ", '_keep_checkpoint_max': 5, '_keep_checkpoint_every_n_hours': 10000, '_log_step_count_steps': None, '_train_distribute': None, '_device_fn': None, '_protocol': None, '_eval_distribute': None, '_experimental_distribute': None, '_service': None, '_cluster_spec': <tensorflow.python.training.server_lib.ClusterSpec object at 0x7f891e8135c0>, '_task_type': 'worker', '_task_id': 0, '_global_id_in_cluster': 0, '_master': 'grpc://10.120.130.154:8470', '_evaluation_master': 'grpc://10.120.130.154:8470', '_is_chief': True, '_num_ps_replicas': 0, '_num_worker_replicas': 1, '_tpu_config': TPUConfig(iterations_per_loop=234, num_shards=None, num_cores_per_replica=None, per_host_input_for_training=3, tpu_job_name=None, initial_infeed_sleep_secs=None, input_partition_dims=None), '_cluster': <tensorflow.python.distribute.cluster_resolver.tpu_cluster_resolver.TPUClusterResolver object at 0x7f891e813390>}\n",
            "INFO:tensorflow:_TPUContext: eval_on_tpu True\n",
            "INFO:tensorflow:Querying Tensorflow master (grpc://10.120.130.154:8470) for TPU system metadata.\n",
            "INFO:tensorflow:Found TPU system:\n",
            "INFO:tensorflow:*** Num TPU Cores: 8\n",
            "INFO:tensorflow:*** Num TPU Workers: 1\n",
            "INFO:tensorflow:*** Num TPU Cores Per Worker: 8\n",
            "INFO:tensorflow:*** Available Device: _DeviceAttributes(/job:worker/replica:0/task:0/device:CPU:0, CPU, -1, 7375337564813294799)\n",
            "INFO:tensorflow:*** Available Device: _DeviceAttributes(/job:worker/replica:0/task:0/device:XLA_CPU:0, XLA_CPU, 17179869184, 3099177482171285730)\n",
            "INFO:tensorflow:*** Available Device: _DeviceAttributes(/job:worker/replica:0/task:0/device:TPU:0, TPU, 17179869184, 16532187327352177784)\n",
            "INFO:tensorflow:*** Available Device: _DeviceAttributes(/job:worker/replica:0/task:0/device:TPU:1, TPU, 17179869184, 6030976355844660227)\n",
            "INFO:tensorflow:*** Available Device: _DeviceAttributes(/job:worker/replica:0/task:0/device:TPU:2, TPU, 17179869184, 4363802569030965225)\n",
            "INFO:tensorflow:*** Available Device: _DeviceAttributes(/job:worker/replica:0/task:0/device:TPU:3, TPU, 17179869184, 3375294484057268402)\n",
            "INFO:tensorflow:*** Available Device: _DeviceAttributes(/job:worker/replica:0/task:0/device:TPU:4, TPU, 17179869184, 11983168967130127715)\n",
            "INFO:tensorflow:*** Available Device: _DeviceAttributes(/job:worker/replica:0/task:0/device:TPU:5, TPU, 17179869184, 458648376156596737)\n",
            "INFO:tensorflow:*** Available Device: _DeviceAttributes(/job:worker/replica:0/task:0/device:TPU:6, TPU, 17179869184, 4538639679328842923)\n",
            "INFO:tensorflow:*** Available Device: _DeviceAttributes(/job:worker/replica:0/task:0/device:TPU:7, TPU, 17179869184, 1563385644476032520)\n",
            "INFO:tensorflow:*** Available Device: _DeviceAttributes(/job:worker/replica:0/task:0/device:TPU_SYSTEM:0, TPU_SYSTEM, 17179869184, 3483603562910394315)\n",
            "WARNING:tensorflow:From /usr/local/lib/python3.6/dist-packages/tensorflow/python/ops/resource_variable_ops.py:435: colocate_with (from tensorflow.python.framework.ops) is deprecated and will be removed in a future version.\n",
            "Instructions for updating:\n",
            "Colocations handled automatically by placer.\n",
            "INFO:tensorflow:Calling model_fn.\n",
            "WARNING:tensorflow:From /usr/local/lib/python3.6/dist-packages/tensorflow/python/keras/layers/core.py:143: calling dropout (from tensorflow.python.ops.nn_ops) with keep_prob is deprecated and will be removed in a future version.\n",
            "Instructions for updating:\n",
            "Please use `rate` instead of `keep_prob`. Rate should be set to `rate = 1 - keep_prob`.\n",
            "WARNING:tensorflow:From /usr/local/lib/python3.6/dist-packages/tensorflow/python/ops/losses/losses_impl.py:209: to_float (from tensorflow.python.ops.math_ops) is deprecated and will be removed in a future version.\n",
            "Instructions for updating:\n",
            "Use tf.cast instead.\n",
            "WARNING:tensorflow:From /usr/local/lib/python3.6/dist-packages/tensorflow/python/ops/math_ops.py:3066: to_int32 (from tensorflow.python.ops.math_ops) is deprecated and will be removed in a future version.\n",
            "Instructions for updating:\n",
            "Use tf.cast instead.\n",
            "INFO:tensorflow:Create CheckpointSaverHook.\n",
            "INFO:tensorflow:Done calling model_fn.\n",
            "INFO:tensorflow:TPU job name worker\n",
            "INFO:tensorflow:Graph was finalized.\n",
            "INFO:tensorflow:Running local_init_op.\n",
            "INFO:tensorflow:Done running local_init_op.\n",
            "INFO:tensorflow:Saving checkpoints for 0 into gs://gs_colab/work/mnist/2019-04-11-11:17:27/model.ckpt.\n",
            "INFO:tensorflow:Initialized dataset iterators in 1 seconds\n",
            "INFO:tensorflow:Installing graceful shutdown hook.\n",
            "INFO:tensorflow:Creating heartbeat manager for ['/job:worker/replica:0/task:0/device:CPU:0']\n",
            "INFO:tensorflow:Configuring worker heartbeat: shutdown_mode: WAIT_FOR_COORDINATOR\n",
            "\n",
            "INFO:tensorflow:Init TPU system\n",
            "INFO:tensorflow:Initialized TPU in 7 seconds\n",
            "INFO:tensorflow:Starting infeed thread controller.\n",
            "INFO:tensorflow:Starting outfeed thread controller.\n",
            "INFO:tensorflow:Enqueue next (234) batch(es) of data to infeed.\n",
            "INFO:tensorflow:Dequeue next (234) batch(es) of data from outfeed.\n",
            "INFO:tensorflow:loss = 0.073232904, step = 234\n",
            "INFO:tensorflow:Enqueue next (234) batch(es) of data to infeed.\n",
            "INFO:tensorflow:Dequeue next (234) batch(es) of data from outfeed.\n",
            "INFO:tensorflow:loss = 0.34324515, step = 468 (0.737 sec)\n",
            "INFO:tensorflow:global_step/sec: 317.565\n",
            "INFO:tensorflow:examples/sec: 81296.7\n",
            "INFO:tensorflow:Enqueue next (234) batch(es) of data to infeed.\n",
            "INFO:tensorflow:Dequeue next (234) batch(es) of data from outfeed.\n",
            "INFO:tensorflow:loss = 0.1183507, step = 702 (0.334 sec)\n",
            "INFO:tensorflow:global_step/sec: 700.816\n",
            "INFO:tensorflow:examples/sec: 179409\n",
            "INFO:tensorflow:Enqueue next (234) batch(es) of data to infeed.\n",
            "INFO:tensorflow:Dequeue next (234) batch(es) of data from outfeed.\n",
            "INFO:tensorflow:loss = 0.025373638, step = 936 (0.370 sec)\n",
            "INFO:tensorflow:global_step/sec: 632.33\n",
            "INFO:tensorflow:examples/sec: 161876\n",
            "INFO:tensorflow:Enqueue next (234) batch(es) of data to infeed.\n",
            "INFO:tensorflow:Dequeue next (234) batch(es) of data from outfeed.\n",
            "INFO:tensorflow:loss = 0.23679878, step = 1170 (0.347 sec)\n",
            "INFO:tensorflow:global_step/sec: 675.527\n",
            "INFO:tensorflow:examples/sec: 172935\n",
            "INFO:tensorflow:Enqueue next (234) batch(es) of data to infeed.\n",
            "INFO:tensorflow:Dequeue next (234) batch(es) of data from outfeed.\n",
            "INFO:tensorflow:loss = 0.009290829, step = 1404 (0.346 sec)\n",
            "INFO:tensorflow:global_step/sec: 674.559\n",
            "INFO:tensorflow:examples/sec: 172687\n",
            "INFO:tensorflow:Enqueue next (234) batch(es) of data to infeed.\n",
            "INFO:tensorflow:Dequeue next (234) batch(es) of data from outfeed.\n",
            "INFO:tensorflow:loss = 0.11618532, step = 1638 (0.341 sec)\n",
            "INFO:tensorflow:global_step/sec: 686.309\n",
            "INFO:tensorflow:examples/sec: 175695\n",
            "INFO:tensorflow:Enqueue next (234) batch(es) of data to infeed.\n",
            "INFO:tensorflow:Dequeue next (234) batch(es) of data from outfeed.\n",
            "INFO:tensorflow:loss = 0.034597244, step = 1872 (0.323 sec)\n",
            "INFO:tensorflow:global_step/sec: 720.074\n",
            "INFO:tensorflow:examples/sec: 184339\n",
            "INFO:tensorflow:Enqueue next (234) batch(es) of data to infeed.\n",
            "INFO:tensorflow:Dequeue next (234) batch(es) of data from outfeed.\n",
            "INFO:tensorflow:loss = 0.0049349098, step = 2106 (0.365 sec)\n",
            "INFO:tensorflow:global_step/sec: 644.774\n",
            "INFO:tensorflow:examples/sec: 165062\n",
            "INFO:tensorflow:Enqueue next (234) batch(es) of data to infeed.\n",
            "INFO:tensorflow:Dequeue next (234) batch(es) of data from outfeed.\n",
            "INFO:tensorflow:loss = 0.00031269132, step = 2340 (0.322 sec)\n",
            "INFO:tensorflow:global_step/sec: 726.535\n",
            "INFO:tensorflow:examples/sec: 185993\n",
            "INFO:tensorflow:Enqueue next (234) batch(es) of data to infeed.\n",
            "INFO:tensorflow:Dequeue next (234) batch(es) of data from outfeed.\n",
            "INFO:tensorflow:loss = 0.00016525506, step = 2574 (0.314 sec)\n",
            "INFO:tensorflow:global_step/sec: 745.731\n",
            "INFO:tensorflow:examples/sec: 190907\n",
            "INFO:tensorflow:Enqueue next (234) batch(es) of data to infeed.\n",
            "INFO:tensorflow:Dequeue next (234) batch(es) of data from outfeed.\n",
            "INFO:tensorflow:loss = 0.0013558959, step = 2808 (0.335 sec)\n",
            "INFO:tensorflow:global_step/sec: 697.15\n",
            "INFO:tensorflow:examples/sec: 178470\n",
            "INFO:tensorflow:Enqueue next (234) batch(es) of data to infeed.\n",
            "INFO:tensorflow:Dequeue next (234) batch(es) of data from outfeed.\n",
            "INFO:tensorflow:loss = 0.007062817, step = 3042 (0.307 sec)\n",
            "INFO:tensorflow:global_step/sec: 760.519\n",
            "INFO:tensorflow:examples/sec: 194693\n",
            "INFO:tensorflow:Enqueue next (234) batch(es) of data to infeed.\n",
            "INFO:tensorflow:Dequeue next (234) batch(es) of data from outfeed.\n",
            "INFO:tensorflow:loss = 0.00014875566, step = 3276 (0.306 sec)\n",
            "INFO:tensorflow:global_step/sec: 759.483\n",
            "INFO:tensorflow:examples/sec: 194428\n",
            "INFO:tensorflow:Enqueue next (234) batch(es) of data to infeed.\n",
            "INFO:tensorflow:Dequeue next (234) batch(es) of data from outfeed.\n",
            "INFO:tensorflow:loss = 0.0003934424, step = 3510 (0.347 sec)\n",
            "INFO:tensorflow:global_step/sec: 674.612\n",
            "INFO:tensorflow:examples/sec: 172701\n",
            "INFO:tensorflow:Enqueue next (234) batch(es) of data to infeed.\n",
            "INFO:tensorflow:Dequeue next (234) batch(es) of data from outfeed.\n",
            "INFO:tensorflow:loss = 0.0027814684, step = 3744 (0.322 sec)\n",
            "INFO:tensorflow:global_step/sec: 732.046\n",
            "INFO:tensorflow:examples/sec: 187404\n",
            "INFO:tensorflow:Enqueue next (234) batch(es) of data to infeed.\n",
            "INFO:tensorflow:Dequeue next (234) batch(es) of data from outfeed.\n",
            "INFO:tensorflow:loss = 0.01756643, step = 3978 (0.311 sec)\n",
            "INFO:tensorflow:global_step/sec: 752.572\n",
            "INFO:tensorflow:examples/sec: 192658\n",
            "INFO:tensorflow:Enqueue next (234) batch(es) of data to infeed.\n",
            "INFO:tensorflow:Dequeue next (234) batch(es) of data from outfeed.\n",
            "INFO:tensorflow:loss = 0.00012797727, step = 4212 (0.315 sec)\n",
            "INFO:tensorflow:global_step/sec: 742.455\n",
            "INFO:tensorflow:examples/sec: 190069\n",
            "INFO:tensorflow:Enqueue next (234) batch(es) of data to infeed.\n",
            "INFO:tensorflow:Dequeue next (234) batch(es) of data from outfeed.\n",
            "INFO:tensorflow:loss = 0.00017946876, step = 4446 (0.305 sec)\n",
            "INFO:tensorflow:global_step/sec: 766.644\n",
            "INFO:tensorflow:examples/sec: 196261\n",
            "INFO:tensorflow:Enqueue next (234) batch(es) of data to infeed.\n",
            "INFO:tensorflow:Dequeue next (234) batch(es) of data from outfeed.\n",
            "INFO:tensorflow:loss = 0.0032382112, step = 4680 (0.305 sec)\n",
            "INFO:tensorflow:global_step/sec: 768.03\n",
            "INFO:tensorflow:examples/sec: 196616\n",
            "INFO:tensorflow:Enqueue next (234) batch(es) of data to infeed.\n",
            "INFO:tensorflow:Dequeue next (234) batch(es) of data from outfeed.\n",
            "INFO:tensorflow:loss = 5.88488e-05, step = 4914 (0.309 sec)\n",
            "INFO:tensorflow:global_step/sec: 755.63\n",
            "INFO:tensorflow:examples/sec: 193441\n",
            "INFO:tensorflow:Enqueue next (234) batch(es) of data to infeed.\n",
            "INFO:tensorflow:Dequeue next (234) batch(es) of data from outfeed.\n",
            "INFO:tensorflow:loss = 0.00024276893, step = 5148 (0.307 sec)\n",
            "INFO:tensorflow:global_step/sec: 762.116\n",
            "INFO:tensorflow:examples/sec: 195102\n",
            "INFO:tensorflow:Enqueue next (234) batch(es) of data to infeed.\n",
            "INFO:tensorflow:Dequeue next (234) batch(es) of data from outfeed.\n",
            "INFO:tensorflow:loss = 4.0479048e-05, step = 5382 (0.306 sec)\n",
            "INFO:tensorflow:global_step/sec: 765.074\n",
            "INFO:tensorflow:examples/sec: 195859\n",
            "INFO:tensorflow:Enqueue next (234) batch(es) of data to infeed.\n",
            "INFO:tensorflow:Dequeue next (234) batch(es) of data from outfeed.\n",
            "INFO:tensorflow:loss = 1.2567198e-05, step = 5616 (0.323 sec)\n",
            "INFO:tensorflow:global_step/sec: 724.345\n",
            "INFO:tensorflow:examples/sec: 185432\n",
            "INFO:tensorflow:Saving checkpoints for 5616 into gs://gs_colab/work/mnist/2019-04-11-11:17:27/model.ckpt.\n",
            "INFO:tensorflow:Stop infeed thread controller\n",
            "INFO:tensorflow:Shutting down InfeedController thread.\n",
            "INFO:tensorflow:InfeedController received shutdown signal, stopping.\n",
            "INFO:tensorflow:Infeed thread finished, shutting down.\n",
            "INFO:tensorflow:infeed marked as finished\n",
            "INFO:tensorflow:Stop output thread controller\n",
            "INFO:tensorflow:Shutting down OutfeedController thread.\n",
            "INFO:tensorflow:OutfeedController received shutdown signal, stopping.\n",
            "INFO:tensorflow:Outfeed thread finished, shutting down.\n",
            "INFO:tensorflow:outfeed marked as finished\n",
            "INFO:tensorflow:Shutdown TPU system.\n",
            "INFO:tensorflow:Loss for final step: 1.2567198e-05.\n",
            "INFO:tensorflow:training_loop marked as finished\n"
          ],
          "name": "stdout"
        },
        {
          "output_type": "execute_result",
          "data": {
            "text/plain": [
              "<tensorflow.contrib.tpu.python.tpu.tpu_estimator.TPUEstimator at 0x7f891e8133c8>"
            ]
          },
          "metadata": {
            "tags": []
          },
          "execution_count": 10
        }
      ]
    },
    {
      "metadata": {
        "id": "m6sju7JJxTfR",
        "colab_type": "code",
        "outputId": "b2771ad5-66f4-4ba6-e2fc-1fae6d6bdba7",
        "colab": {
          "base_uri": "https://localhost:8080/",
          "height": 666
        }
      },
      "cell_type": "code",
      "source": [
        "result = est.evaluate(eval_input_func, steps=1)"
      ],
      "execution_count": 0,
      "outputs": [
        {
          "output_type": "stream",
          "text": [
            "INFO:tensorflow:Calling model_fn.\n",
            "WARNING:tensorflow:From /usr/local/lib/python3.6/dist-packages/tensorflow/contrib/tpu/python/tpu/tpu_estimator.py:2655: div (from tensorflow.python.ops.math_ops) is deprecated and will be removed in a future version.\n",
            "Instructions for updating:\n",
            "Deprecated in favor of operator or tf.math.divide.\n",
            "INFO:tensorflow:Done calling model_fn.\n",
            "INFO:tensorflow:Starting evaluation at 2019-04-11T11:19:24Z\n",
            "INFO:tensorflow:TPU job name worker\n",
            "INFO:tensorflow:Graph was finalized.\n",
            "WARNING:tensorflow:From /usr/local/lib/python3.6/dist-packages/tensorflow/python/training/saver.py:1266: checkpoint_exists (from tensorflow.python.training.checkpoint_management) is deprecated and will be removed in a future version.\n",
            "Instructions for updating:\n",
            "Use standard file APIs to check for files with this prefix.\n",
            "INFO:tensorflow:Restoring parameters from gs://gs_colab/work/mnist/2019-04-11-11:17:27/model.ckpt-5616\n",
            "INFO:tensorflow:Running local_init_op.\n",
            "INFO:tensorflow:Done running local_init_op.\n",
            "INFO:tensorflow:Init TPU system\n",
            "INFO:tensorflow:Initialized TPU in 10 seconds\n",
            "INFO:tensorflow:Starting infeed thread controller.\n",
            "INFO:tensorflow:Starting outfeed thread controller.\n",
            "INFO:tensorflow:Initialized dataset iterators in 0 seconds\n",
            "INFO:tensorflow:Enqueue next (1) batch(es) of data to infeed.\n",
            "INFO:tensorflow:Dequeue next (1) batch(es) of data from outfeed.\n",
            "INFO:tensorflow:Evaluation [1/1]\n",
            "INFO:tensorflow:Stop infeed thread controller\n",
            "INFO:tensorflow:Shutting down InfeedController thread.\n",
            "INFO:tensorflow:InfeedController received shutdown signal, stopping.\n",
            "INFO:tensorflow:Infeed thread finished, shutting down.\n",
            "INFO:tensorflow:infeed marked as finished\n",
            "INFO:tensorflow:Stop output thread controller\n",
            "INFO:tensorflow:Shutting down OutfeedController thread.\n",
            "INFO:tensorflow:OutfeedController received shutdown signal, stopping.\n",
            "INFO:tensorflow:Outfeed thread finished, shutting down.\n",
            "INFO:tensorflow:outfeed marked as finished\n",
            "INFO:tensorflow:Shutdown TPU system.\n",
            "INFO:tensorflow:Finished evaluation at 2019-04-11-11:19:39\n",
            "INFO:tensorflow:Saving dict for global step 5616: accuracy = 0.994, global_step = 5616, loss = 0.036853764\n",
            "INFO:tensorflow:Saving 'checkpoint_path' summary for global step 5616: gs://gs_colab/work/mnist/2019-04-11-11:17:27/model.ckpt-5616\n",
            "INFO:tensorflow:evaluation_loop marked as finished\n"
          ],
          "name": "stdout"
        }
      ]
    },
    {
      "metadata": {
        "id": "1r2xTekiPifk",
        "colab_type": "code",
        "outputId": "acbe25ca-17f6-4a23-888a-a69a2f9c42bd",
        "colab": {
          "base_uri": "https://localhost:8080/",
          "height": 34
        }
      },
      "cell_type": "code",
      "source": [
        "print(f'Test results: accuracy={result[\"accuracy\"] * 100: .2f}%, loss={result[\"loss\"]: .2f}.')"
      ],
      "execution_count": 0,
      "outputs": [
        {
          "output_type": "stream",
          "text": [
            "Test results: accuracy= 99.40%, loss= 0.04.\n"
          ],
          "name": "stdout"
        }
      ]
    },
    {
      "metadata": {
        "id": "nbQwOMKOPjj7",
        "colab_type": "code",
        "colab": {}
      },
      "cell_type": "code",
      "source": [
        "fw.io.create_clean_dir(work_dir)"
      ],
      "execution_count": 0,
      "outputs": []
    }
  ]
}